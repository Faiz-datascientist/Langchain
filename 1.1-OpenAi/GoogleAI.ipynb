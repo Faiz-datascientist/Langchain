{
 "cells": [
  {
   "cell_type": "code",
   "execution_count": 1,
   "metadata": {},
   "outputs": [
    {
     "name": "stderr",
     "output_type": "stream",
     "text": [
      "USER_AGENT environment variable not set, consider setting it to identify your requests.\n"
     ]
    }
   ],
   "source": [
    "from langchain_community.document_loaders import WebBaseLoader"
   ]
  },
  {
   "cell_type": "markdown",
   "metadata": {},
   "source": [
    "What is generative AI?\n",
    "\n",
    "Generative Ai is a class of artificial Inteligence technique and Algorithm designed to generate a new content or ouput or data "
   ]
  },
  {
   "cell_type": "code",
   "execution_count": 2,
   "metadata": {},
   "outputs": [
    {
     "data": {
      "text/plain": [
       "True"
      ]
     },
     "execution_count": 2,
     "metadata": {},
     "output_type": "execute_result"
    }
   ],
   "source": [
    "import os\n",
    "from dotenv import load_dotenv\n",
    "load_dotenv()"
   ]
  },
  {
   "cell_type": "code",
   "execution_count": 71,
   "metadata": {},
   "outputs": [],
   "source": [
    "os.environ[\"HF_KEY\"]=os.getenv(\"HF_KEY\")\n",
    "os.environ[\"GOOGLE_API_KEY\"]=os.getenv(\"GOOGLE_API_KEY\")"
   ]
  },
  {
   "cell_type": "code",
   "execution_count": 3,
   "metadata": {},
   "outputs": [],
   "source": [
    "url_load=WebBaseLoader(\"https://seths.blog/page/2/\")"
   ]
  },
  {
   "cell_type": "code",
   "execution_count": 44,
   "metadata": {},
   "outputs": [],
   "source": [
    "docs=url_load.load()"
   ]
  },
  {
   "cell_type": "code",
   "execution_count": 50,
   "metadata": {},
   "outputs": [
    {
     "data": {
      "text/plain": [
       "list"
      ]
     },
     "execution_count": 50,
     "metadata": {},
     "output_type": "execute_result"
    }
   ],
   "source": [
    "type(docs)"
   ]
  },
  {
   "cell_type": "code",
   "execution_count": 47,
   "metadata": {},
   "outputs": [],
   "source": [
    "#Text splitter\n",
    "\n",
    "from langchain_text_splitters import RecursiveCharacterTextSplitter,CharacterTextSplitter\n",
    "splitter=RecursiveCharacterTextSplitter(chunk_size=50,chunk_overlap=0)"
   ]
  },
  {
   "cell_type": "code",
   "execution_count": 52,
   "metadata": {},
   "outputs": [],
   "source": [
    "split_docs=splitter.split_documents(docs)"
   ]
  },
  {
   "cell_type": "code",
   "execution_count": 55,
   "metadata": {},
   "outputs": [
    {
     "data": {
      "text/plain": [
       "[Document(metadata={'source': 'https://seths.blog/page/2/', 'title': \"Seth's Blog\", 'description': \"Seth Godin's Blog on marketing, tribes and respect\", 'language': 'en'}, page_content=\"Seth's Blog\"),\n",
       " Document(metadata={'source': 'https://seths.blog/page/2/', 'title': \"Seth's Blog\", 'description': \"Seth Godin's Blog on marketing, tribes and respect\", 'language': 'en'}, page_content='You have unread updates\\n0'),\n",
       " Document(metadata={'source': 'https://seths.blog/page/2/', 'title': \"Seth's Blog\", 'description': \"Seth Godin's Blog on marketing, tribes and respect\", 'language': 'en'}, page_content='Search\\n\\n\\nSearch for:'),\n",
       " Document(metadata={'source': 'https://seths.blog/page/2/', 'title': \"Seth's Blog\", 'description': \"Seth Godin's Blog on marketing, tribes and respect\", 'language': 'en'}, page_content='Or try my new AI-powered search bot\\nSubscribe'),\n",
       " Document(metadata={'source': 'https://seths.blog/page/2/', 'title': \"Seth's Blog\", 'description': \"Seth Godin's Blog on marketing, tribes and respect\", 'language': 'en'}, page_content='Email \\n\\t\\t\\n\\t\\t\\t\\tTerms \\t\\t &'),\n",
       " Document(metadata={'source': 'https://seths.blog/page/2/', 'title': \"Seth's Blog\", 'description': \"Seth Godin's Blog on marketing, tribes and respect\", 'language': 'en'}, page_content='Privacy\\t\\t\\n\\n\\n\\n\\n\\nGet the weekly digest'),\n",
       " Document(metadata={'source': 'https://seths.blog/page/2/', 'title': \"Seth's Blog\", 'description': \"Seth Godin's Blog on marketing, tribes and respect\", 'language': 'en'}, page_content='Type your email…'),\n",
       " Document(metadata={'source': 'https://seths.blog/page/2/', 'title': \"Seth's Blog\", 'description': \"Seth Godin's Blog on marketing, tribes and respect\", 'language': 'en'}, page_content='Subscribe'),\n",
       " Document(metadata={'source': 'https://seths.blog/page/2/', 'title': \"Seth's Blog\", 'description': \"Seth Godin's Blog on marketing, tribes and respect\", 'language': 'en'}, page_content='Learn\\nWhich workshop?\\naltMBA'),\n",
       " Document(metadata={'source': 'https://seths.blog/page/2/', 'title': \"Seth's Blog\", 'description': \"Seth Godin's Blog on marketing, tribes and respect\", 'language': 'en'}, page_content='The LinkedIn Learning Courses\\nUdemy Courses'),\n",
       " Document(metadata={'source': 'https://seths.blog/page/2/', 'title': \"Seth's Blog\", 'description': \"Seth Godin's Blog on marketing, tribes and respect\", 'language': 'en'}, page_content='The Akimbo Podcast\\nConnect\\nNews and updates'),\n",
       " Document(metadata={'source': 'https://seths.blog/page/2/', 'title': \"Seth's Blog\", 'description': \"Seth Godin's Blog on marketing, tribes and respect\", 'language': 'en'}, page_content='Social Media\\nBest of the blog\\nStory of the Week'),\n",
       " Document(metadata={'source': 'https://seths.blog/page/2/', 'title': \"Seth's Blog\", 'description': \"Seth Godin's Blog on marketing, tribes and respect\", 'language': 'en'}, page_content='Seth’s Top 100\\nPopular Posts\\nArchive\\nMore Seth'),\n",
       " Document(metadata={'source': 'https://seths.blog/page/2/', 'title': \"Seth's Blog\", 'description': \"Seth Godin's Blog on marketing, tribes and respect\", 'language': 'en'}, page_content='Books, videos, and speaking (oh my!)\\nFree content'),\n",
       " Document(metadata={'source': 'https://seths.blog/page/2/', 'title': \"Seth's Blog\", 'description': \"Seth Godin's Blog on marketing, tribes and respect\", 'language': 'en'}, page_content='About Seth Godin'),\n",
       " Document(metadata={'source': 'https://seths.blog/page/2/', 'title': \"Seth's Blog\", 'description': \"Seth Godin's Blog on marketing, tribes and respect\", 'language': 'en'}, page_content='Find all the books at seths.store'),\n",
       " Document(metadata={'source': 'https://seths.blog/page/2/', 'title': \"Seth's Blog\", 'description': \"Seth Godin's Blog on marketing, tribes and respect\", 'language': 'en'}, page_content='Welcome back.'),\n",
       " Document(metadata={'source': 'https://seths.blog/page/2/', 'title': \"Seth's Blog\", 'description': \"Seth Godin's Blog on marketing, tribes and respect\", 'language': 'en'}, page_content=\"Have you thought about subscribing? It's free.\"),\n",
       " Document(metadata={'source': 'https://seths.blog/page/2/', 'title': \"Seth's Blog\", 'description': \"Seth Godin's Blog on marketing, tribes and respect\", 'language': 'en'}, page_content='seths.blog/subscribe'),\n",
       " Document(metadata={'source': 'https://seths.blog/page/2/', 'title': \"Seth's Blog\", 'description': \"Seth Godin's Blog on marketing, tribes and respect\", 'language': 'en'}, page_content='The opposite of a good idea…'),\n",
       " Document(metadata={'source': 'https://seths.blog/page/2/', 'title': \"Seth's Blog\", 'description': \"Seth Godin's Blog on marketing, tribes and respect\", 'language': 'en'}, page_content='might also be a good idea.'),\n",
       " Document(metadata={'source': 'https://seths.blog/page/2/', 'title': \"Seth's Blog\", 'description': \"Seth Godin's Blog on marketing, tribes and respect\", 'language': 'en'}, page_content='The hard part isn’t finding proof before you'),\n",
       " Document(metadata={'source': 'https://seths.blog/page/2/', 'title': \"Seth's Blog\", 'description': \"Seth Godin's Blog on marketing, tribes and respect\", 'language': 'en'}, page_content='begin.'),\n",
       " Document(metadata={'source': 'https://seths.blog/page/2/', 'title': \"Seth's Blog\", 'description': \"Seth Godin's Blog on marketing, tribes and respect\", 'language': 'en'}, page_content='The hard part is beginning, knowing you might not'),\n",
       " Document(metadata={'source': 'https://seths.blog/page/2/', 'title': \"Seth's Blog\", 'description': \"Seth Godin's Blog on marketing, tribes and respect\", 'language': 'en'}, page_content='succeed.'),\n",
       " Document(metadata={'source': 'https://seths.blog/page/2/', 'title': \"Seth's Blog\", 'description': \"Seth Godin's Blog on marketing, tribes and respect\", 'language': 'en'}, page_content='March 5, 2025'),\n",
       " Document(metadata={'source': 'https://seths.blog/page/2/', 'title': \"Seth's Blog\", 'description': \"Seth Godin's Blog on marketing, tribes and respect\", 'language': 'en'}, page_content='Across and within'),\n",
       " Document(metadata={'source': 'https://seths.blog/page/2/', 'title': \"Seth's Blog\", 'description': \"Seth Godin's Blog on marketing, tribes and respect\", 'language': 'en'}, page_content='Media theory pioneer Harold Innis saw it 70 years'),\n",
       " Document(metadata={'source': 'https://seths.blog/page/2/', 'title': \"Seth's Blog\", 'description': \"Seth Godin's Blog on marketing, tribes and respect\", 'language': 'en'}, page_content='ago:'),\n",
       " Document(metadata={'source': 'https://seths.blog/page/2/', 'title': \"Seth's Blog\", 'description': \"Seth Godin's Blog on marketing, tribes and respect\", 'language': 'en'}, page_content='Some cultures and ideas are built to spread'),\n",
       " Document(metadata={'source': 'https://seths.blog/page/2/', 'title': \"Seth's Blog\", 'description': \"Seth Godin's Blog on marketing, tribes and respect\", 'language': 'en'}, page_content='across SPACE.'),\n",
       " Document(metadata={'source': 'https://seths.blog/page/2/', 'title': \"Seth's Blog\", 'description': \"Seth Godin's Blog on marketing, tribes and respect\", 'language': 'en'}, page_content='And some spread across TIME.'),\n",
       " Document(metadata={'source': 'https://seths.blog/page/2/', 'title': \"Seth's Blog\", 'description': \"Seth Godin's Blog on marketing, tribes and respect\", 'language': 'en'}, page_content='It’s the tension between space and time that lead'),\n",
       " Document(metadata={'source': 'https://seths.blog/page/2/', 'title': \"Seth's Blog\", 'description': \"Seth Godin's Blog on marketing, tribes and respect\", 'language': 'en'}, page_content='to the rise and fall of societies and cultures,'),\n",
       " Document(metadata={'source': 'https://seths.blog/page/2/', 'title': \"Seth's Blog\", 'description': \"Seth Godin's Blog on marketing, tribes and respect\", 'language': 'en'}, page_content='and they’re worth understanding.'),\n",
       " Document(metadata={'source': 'https://seths.blog/page/2/', 'title': \"Seth's Blog\", 'description': \"Seth Godin's Blog on marketing, tribes and respect\", 'language': 'en'}, page_content='Clay tablets, household traditions and local'),\n",
       " Document(metadata={'source': 'https://seths.blog/page/2/', 'title': \"Seth's Blog\", 'description': \"Seth Godin's Blog on marketing, tribes and respect\", 'language': 'en'}, page_content='governments persist over time. But they don’t'),\n",
       " Document(metadata={'source': 'https://seths.blog/page/2/', 'title': \"Seth's Blog\", 'description': \"Seth Godin's Blog on marketing, tribes and respect\", 'language': 'en'}, page_content='travel widely.'),\n",
       " Document(metadata={'source': 'https://seths.blog/page/2/', 'title': \"Seth's Blog\", 'description': \"Seth Godin's Blog on marketing, tribes and respect\", 'language': 'en'}, page_content='On the other hand, newspapers, radio broadcasts'),\n",
       " Document(metadata={'source': 'https://seths.blog/page/2/', 'title': \"Seth's Blog\", 'description': \"Seth Godin's Blog on marketing, tribes and respect\", 'language': 'en'}, page_content='and memes are ephemeral. They’re fast, they go'),\n",
       " Document(metadata={'source': 'https://seths.blog/page/2/', 'title': \"Seth's Blog\", 'description': \"Seth Godin's Blog on marketing, tribes and respect\", 'language': 'en'}, page_content='wide, and then they often fade away.'),\n",
       " Document(metadata={'source': 'https://seths.blog/page/2/', 'title': \"Seth's Blog\", 'description': \"Seth Godin's Blog on marketing, tribes and respect\", 'language': 'en'}, page_content='The Greeks were an early culture that used both,'),\n",
       " Document(metadata={'source': 'https://seths.blog/page/2/', 'title': \"Seth's Blog\", 'description': \"Seth Godin's Blog on marketing, tribes and respect\", 'language': 'en'}, page_content='which Innis argues is part of their longevity.'),\n",
       " Document(metadata={'source': 'https://seths.blog/page/2/', 'title': \"Seth's Blog\", 'description': \"Seth Godin's Blog on marketing, tribes and respect\", 'language': 'en'}, page_content='And the Bible and Quran are books (time based)'),\n",
       " Document(metadata={'source': 'https://seths.blog/page/2/', 'title': \"Seth's Blog\", 'description': \"Seth Godin's Blog on marketing, tribes and respect\", 'language': 'en'}, page_content='that were propelled by cultural forces to also be'),\n",
       " Document(metadata={'source': 'https://seths.blog/page/2/', 'title': \"Seth's Blog\", 'description': \"Seth Godin's Blog on marketing, tribes and respect\", 'language': 'en'}, page_content='space based.'),\n",
       " Document(metadata={'source': 'https://seths.blog/page/2/', 'title': \"Seth's Blog\", 'description': \"Seth Godin's Blog on marketing, tribes and respect\", 'language': 'en'}, page_content='As you’ve probably guessed, TikTok is the'),\n",
       " Document(metadata={'source': 'https://seths.blog/page/2/', 'title': \"Seth's Blog\", 'description': \"Seth Godin's Blog on marketing, tribes and respect\", 'language': 'en'}, page_content='speedball of moving ideas across space. The ideas'),\n",
       " Document(metadata={'source': 'https://seths.blog/page/2/', 'title': \"Seth's Blog\", 'description': \"Seth Godin's Blog on marketing, tribes and respect\", 'language': 'en'}, page_content='are often as long-lasting as a hot pizza, but'),\n",
       " Document(metadata={'source': 'https://seths.blog/page/2/', 'title': \"Seth's Blog\", 'description': \"Seth Godin's Blog on marketing, tribes and respect\", 'language': 'en'}, page_content='they can reach millions.'),\n",
       " Document(metadata={'source': 'https://seths.blog/page/2/', 'title': \"Seth's Blog\", 'description': \"Seth Godin's Blog on marketing, tribes and respect\", 'language': 'en'}, page_content='Innis would argue that many of the dislocations'),\n",
       " Document(metadata={'source': 'https://seths.blog/page/2/', 'title': \"Seth's Blog\", 'description': \"Seth Godin's Blog on marketing, tribes and respect\", 'language': 'en'}, page_content='and painful collisions of modern culture are'),\n",
       " Document(metadata={'source': 'https://seths.blog/page/2/', 'title': \"Seth's Blog\", 'description': \"Seth Godin's Blog on marketing, tribes and respect\", 'language': 'en'}, page_content='being caused by the abrupt shift to space-focused'),\n",
       " Document(metadata={'source': 'https://seths.blog/page/2/', 'title': \"Seth's Blog\", 'description': \"Seth Godin's Blog on marketing, tribes and respect\", 'language': 'en'}, page_content='ideas. We’re starting on a second generation of'),\n",
       " Document(metadata={'source': 'https://seths.blog/page/2/', 'title': \"Seth's Blog\", 'description': \"Seth Godin's Blog on marketing, tribes and respect\", 'language': 'en'}, page_content='people, worldwide, who are day trading their'),\n",
       " Document(metadata={'source': 'https://seths.blog/page/2/', 'title': \"Seth's Blog\", 'description': \"Seth Godin's Blog on marketing, tribes and respect\", 'language': 'en'}, page_content='emotions and confronting ideas that have no past'),\n",
       " Document(metadata={'source': 'https://seths.blog/page/2/', 'title': \"Seth's Blog\", 'description': \"Seth Godin's Blog on marketing, tribes and respect\", 'language': 'en'}, page_content='and little future.'),\n",
       " Document(metadata={'source': 'https://seths.blog/page/2/', 'title': \"Seth's Blog\", 'description': \"Seth Godin's Blog on marketing, tribes and respect\", 'language': 'en'}, page_content='Systems under stress expose themselves, and when'),\n",
       " Document(metadata={'source': 'https://seths.blog/page/2/', 'title': \"Seth's Blog\", 'description': \"Seth Godin's Blog on marketing, tribes and respect\", 'language': 'en'}, page_content='you feel the stress, it’s worth looking for the'),\n",
       " Document(metadata={'source': 'https://seths.blog/page/2/', 'title': \"Seth's Blog\", 'description': \"Seth Godin's Blog on marketing, tribes and respect\", 'language': 'en'}, page_content='juxtapositions that are causing it. In this case,'),\n",
       " Document(metadata={'source': 'https://seths.blog/page/2/', 'title': \"Seth's Blog\", 'description': \"Seth Godin's Blog on marketing, tribes and respect\", 'language': 'en'}, page_content='it’s worth asking whether the idea that’s'),\n",
       " Document(metadata={'source': 'https://seths.blog/page/2/', 'title': \"Seth's Blog\", 'description': \"Seth Godin's Blog on marketing, tribes and respect\", 'language': 'en'}, page_content='changing things was built to last or built to'),\n",
       " Document(metadata={'source': 'https://seths.blog/page/2/', 'title': \"Seth's Blog\", 'description': \"Seth Godin's Blog on marketing, tribes and respect\", 'language': 'en'}, page_content='spread.'),\n",
       " Document(metadata={'source': 'https://seths.blog/page/2/', 'title': \"Seth's Blog\", 'description': \"Seth Godin's Blog on marketing, tribes and respect\", 'language': 'en'}, page_content='And what about the biggest shift of our'),\n",
       " Document(metadata={'source': 'https://seths.blog/page/2/', 'title': \"Seth's Blog\", 'description': \"Seth Godin's Blog on marketing, tribes and respect\", 'language': 'en'}, page_content='lifetime–how does AI fit into this? Does a'),\n",
       " Document(metadata={'source': 'https://seths.blog/page/2/', 'title': \"Seth's Blog\", 'description': \"Seth Godin's Blog on marketing, tribes and respect\", 'language': 'en'}, page_content='platform like Claude deal in time or space?'),\n",
       " Document(metadata={'source': 'https://seths.blog/page/2/', 'title': \"Seth's Blog\", 'description': \"Seth Godin's Blog on marketing, tribes and respect\", 'language': 'en'}, page_content='Claude and I discussed it, and my theory (Claude'),\n",
       " Document(metadata={'source': 'https://seths.blog/page/2/', 'title': \"Seth's Blog\", 'description': \"Seth Godin's Blog on marketing, tribes and respect\", 'language': 'en'}, page_content='is giving me full credit) is an LLM of this sort'),\n",
       " Document(metadata={'source': 'https://seths.blog/page/2/', 'title': \"Seth's Blog\", 'description': \"Seth Godin's Blog on marketing, tribes and respect\", 'language': 'en'}, page_content='is not a communications medium at all. There’s no'),\n",
       " Document(metadata={'source': 'https://seths.blog/page/2/', 'title': \"Seth's Blog\", 'description': \"Seth Godin's Blog on marketing, tribes and respect\", 'language': 'en'}, page_content='way for a human to put a new idea directly into'),\n",
       " Document(metadata={'source': 'https://seths.blog/page/2/', 'title': \"Seth's Blog\", 'description': \"Seth Godin's Blog on marketing, tribes and respect\", 'language': 'en'}, page_content='it and no way to send that message to another'),\n",
       " Document(metadata={'source': 'https://seths.blog/page/2/', 'title': \"Seth's Blog\", 'description': \"Seth Godin's Blog on marketing, tribes and respect\", 'language': 'en'}, page_content='human. Instead, my take is that Claude brings us'),\n",
       " Document(metadata={'source': 'https://seths.blog/page/2/', 'title': \"Seth's Blog\", 'description': \"Seth Godin's Blog on marketing, tribes and respect\", 'language': 'en'}, page_content='everything it knows, and that its function is to'),\n",
       " Document(metadata={'source': 'https://seths.blog/page/2/', 'title': \"Seth's Blog\", 'description': \"Seth Godin's Blog on marketing, tribes and respect\", 'language': 'en'}, page_content='help us go within, not across.'),\n",
       " Document(metadata={'source': 'https://seths.blog/page/2/', 'title': \"Seth's Blog\", 'description': \"Seth Godin's Blog on marketing, tribes and respect\", 'language': 'en'}, page_content='This gives people a different sort of agency than'),\n",
       " Document(metadata={'source': 'https://seths.blog/page/2/', 'title': \"Seth's Blog\", 'description': \"Seth Godin's Blog on marketing, tribes and respect\", 'language': 'en'}, page_content='the manipulative algorithms at TikTok or the'),\n",
       " Document(metadata={'source': 'https://seths.blog/page/2/', 'title': \"Seth's Blog\", 'description': \"Seth Godin's Blog on marketing, tribes and respect\", 'language': 'en'}, page_content='manipulated ones on social media platforms.'),\n",
       " Document(metadata={'source': 'https://seths.blog/page/2/', 'title': \"Seth's Blog\", 'description': \"Seth Godin's Blog on marketing, tribes and respect\", 'language': 'en'}, page_content='Innis (like Doctorow) was very clear about the'),\n",
       " Document(metadata={'source': 'https://seths.blog/page/2/', 'title': \"Seth's Blog\", 'description': \"Seth Godin's Blog on marketing, tribes and respect\", 'language': 'en'}, page_content='perils of media monopoly. If a communications'),\n",
       " Document(metadata={'source': 'https://seths.blog/page/2/', 'title': \"Seth's Blog\", 'description': \"Seth Godin's Blog on marketing, tribes and respect\", 'language': 'en'}, page_content='medium has a middleman, that middleman will seek'),\n",
       " Document(metadata={'source': 'https://seths.blog/page/2/', 'title': \"Seth's Blog\", 'description': \"Seth Godin's Blog on marketing, tribes and respect\", 'language': 'en'}, page_content='to create short-term profit, often at the expense'),\n",
       " Document(metadata={'source': 'https://seths.blog/page/2/', 'title': \"Seth's Blog\", 'description': \"Seth Godin's Blog on marketing, tribes and respect\", 'language': 'en'}, page_content='of the users of the system. The phone company'),\n",
       " Document(metadata={'source': 'https://seths.blog/page/2/', 'title': \"Seth's Blog\", 'description': \"Seth Godin's Blog on marketing, tribes and respect\", 'language': 'en'}, page_content='doesn’t care what you say on the phone, but'),\n",
       " Document(metadata={'source': 'https://seths.blog/page/2/', 'title': \"Seth's Blog\", 'description': \"Seth Godin's Blog on marketing, tribes and respect\", 'language': 'en'}, page_content='modern media platforms are optimized to push the'),\n",
       " Document(metadata={'source': 'https://seths.blog/page/2/', 'title': \"Seth's Blog\", 'description': \"Seth Godin's Blog on marketing, tribes and respect\", 'language': 'en'}, page_content='ideas that will spread to spread, regardless of'),\n",
       " Document(metadata={'source': 'https://seths.blog/page/2/', 'title': \"Seth's Blog\", 'description': \"Seth Godin's Blog on marketing, tribes and respect\", 'language': 'en'}, page_content='their cost to the rest of us.'),\n",
       " Document(metadata={'source': 'https://seths.blog/page/2/', 'title': \"Seth's Blog\", 'description': \"Seth Godin's Blog on marketing, tribes and respect\", 'language': 'en'}, page_content='We’ve been indoctrinated from a young age to'),\n",
       " Document(metadata={'source': 'https://seths.blog/page/2/', 'title': \"Seth's Blog\", 'description': \"Seth Godin's Blog on marketing, tribes and respect\", 'language': 'en'}, page_content='avoid agency, even in our media consumption. To'),\n",
       " Document(metadata={'source': 'https://seths.blog/page/2/', 'title': \"Seth's Blog\", 'description': \"Seth Godin's Blog on marketing, tribes and respect\", 'language': 'en'}, page_content='wait and accept the next idea when it arrives. To'),\n",
       " Document(metadata={'source': 'https://seths.blog/page/2/', 'title': \"Seth's Blog\", 'description': \"Seth Godin's Blog on marketing, tribes and respect\", 'language': 'en'}, page_content='not change the channel, to go to the big movie of'),\n",
       " Document(metadata={'source': 'https://seths.blog/page/2/', 'title': \"Seth's Blog\", 'description': \"Seth Godin's Blog on marketing, tribes and respect\", 'language': 'en'}, page_content='the moment, to listen to the top 40, to parrot'),\n",
       " Document(metadata={'source': 'https://seths.blog/page/2/', 'title': \"Seth's Blog\", 'description': \"Seth Godin's Blog on marketing, tribes and respect\", 'language': 'en'}, page_content='the talking points of the boss.'),\n",
       " Document(metadata={'source': 'https://seths.blog/page/2/', 'title': \"Seth's Blog\", 'description': \"Seth Godin's Blog on marketing, tribes and respect\", 'language': 'en'}, page_content='And now, perhaps for just a brief moment, there’s'),\n",
       " Document(metadata={'source': 'https://seths.blog/page/2/', 'title': \"Seth's Blog\", 'description': \"Seth Godin's Blog on marketing, tribes and respect\", 'language': 'en'}, page_content='a chance to take back agency and go within.'),\n",
       " Document(metadata={'source': 'https://seths.blog/page/2/', 'title': \"Seth's Blog\", 'description': \"Seth Godin's Blog on marketing, tribes and respect\", 'language': 'en'}, page_content='The self-publishing revolution gave everyone a'),\n",
       " Document(metadata={'source': 'https://seths.blog/page/2/', 'title': \"Seth's Blog\", 'description': \"Seth Godin's Blog on marketing, tribes and respect\", 'language': 'en'}, page_content='chance to write a blog, publish a book or record'),\n",
       " Document(metadata={'source': 'https://seths.blog/page/2/', 'title': \"Seth's Blog\", 'description': \"Seth Godin's Blog on marketing, tribes and respect\", 'language': 'en'}, page_content='a song. A few took advantage of this to build'),\n",
       " Document(metadata={'source': 'https://seths.blog/page/2/', 'title': \"Seth's Blog\", 'description': \"Seth Godin's Blog on marketing, tribes and respect\", 'language': 'en'}, page_content='ideas optimized to go across space or time. Most'),\n",
       " Document(metadata={'source': 'https://seths.blog/page/2/', 'title': \"Seth's Blog\", 'description': \"Seth Godin's Blog on marketing, tribes and respect\", 'language': 'en'}, page_content='people, though, sank back into long-trained'),\n",
       " Document(metadata={'source': 'https://seths.blog/page/2/', 'title': \"Seth's Blog\", 'description': \"Seth Godin's Blog on marketing, tribes and respect\", 'language': 'en'}, page_content='rhythms and simply became consumers instead,'),\n",
       " Document(metadata={'source': 'https://seths.blog/page/2/', 'title': \"Seth's Blog\", 'description': \"Seth Godin's Blog on marketing, tribes and respect\", 'language': 'en'}, page_content='sheep with more grass.'),\n",
       " Document(metadata={'source': 'https://seths.blog/page/2/', 'title': \"Seth's Blog\", 'description': \"Seth Godin's Blog on marketing, tribes and respect\", 'language': 'en'}, page_content='I’m not sure how many more moments of maximum'),\n",
       " Document(metadata={'source': 'https://seths.blog/page/2/', 'title': \"Seth's Blog\", 'description': \"Seth Godin's Blog on marketing, tribes and respect\", 'language': 'en'}, page_content='agency will present themselves, but right now we'),\n",
       " Document(metadata={'source': 'https://seths.blog/page/2/', 'title': \"Seth's Blog\", 'description': \"Seth Godin's Blog on marketing, tribes and respect\", 'language': 'en'}, page_content='have a rare chance to go within, to discover and'),\n",
       " Document(metadata={'source': 'https://seths.blog/page/2/', 'title': \"Seth's Blog\", 'description': \"Seth Godin's Blog on marketing, tribes and respect\", 'language': 'en'}, page_content='connect and lead, and then to publish. To publish'),\n",
       " Document(metadata={'source': 'https://seths.blog/page/2/', 'title': \"Seth's Blog\", 'description': \"Seth Godin's Blog on marketing, tribes and respect\", 'language': 'en'}, page_content='not just across space for the quick hit of a like'),\n",
       " Document(metadata={'source': 'https://seths.blog/page/2/', 'title': \"Seth's Blog\", 'description': \"Seth Godin's Blog on marketing, tribes and respect\", 'language': 'en'}, page_content='or a view, but for the long-haul benefit of'),\n",
       " Document(metadata={'source': 'https://seths.blog/page/2/', 'title': \"Seth's Blog\", 'description': \"Seth Godin's Blog on marketing, tribes and respect\", 'language': 'en'}, page_content='changing our culture over time.'),\n",
       " Document(metadata={'source': 'https://seths.blog/page/2/', 'title': \"Seth's Blog\", 'description': \"Seth Godin's Blog on marketing, tribes and respect\", 'language': 'en'}, page_content='[Thanks to my friend Cory Doctorow for'),\n",
       " Document(metadata={'source': 'https://seths.blog/page/2/', 'title': \"Seth's Blog\", 'description': \"Seth Godin's Blog on marketing, tribes and respect\", 'language': 'en'}, page_content='introducing me to Harold Innis. All errors are'),\n",
       " Document(metadata={'source': 'https://seths.blog/page/2/', 'title': \"Seth's Blog\", 'description': \"Seth Godin's Blog on marketing, tribes and respect\", 'language': 'en'}, page_content='mine.]'),\n",
       " Document(metadata={'source': 'https://seths.blog/page/2/', 'title': \"Seth's Blog\", 'description': \"Seth Godin's Blog on marketing, tribes and respect\", 'language': 'en'}, page_content='March 4, 2025'),\n",
       " Document(metadata={'source': 'https://seths.blog/page/2/', 'title': \"Seth's Blog\", 'description': \"Seth Godin's Blog on marketing, tribes and respect\", 'language': 'en'}, page_content='… or the highway'),\n",
       " Document(metadata={'source': 'https://seths.blog/page/2/', 'title': \"Seth's Blog\", 'description': \"Seth Godin's Blog on marketing, tribes and respect\", 'language': 'en'}, page_content='Our instincts might not be as good as we hope.'),\n",
       " Document(metadata={'source': 'https://seths.blog/page/2/', 'title': \"Seth's Blog\", 'description': \"Seth Godin's Blog on marketing, tribes and respect\", 'language': 'en'}, page_content='Going with your gut is thrilling. It’s personal,'),\n",
       " Document(metadata={'source': 'https://seths.blog/page/2/', 'title': \"Seth's Blog\", 'description': \"Seth Godin's Blog on marketing, tribes and respect\", 'language': 'en'}, page_content='vulnerable and brave. And if it’s getting you'),\n",
       " Document(metadata={'source': 'https://seths.blog/page/2/', 'title': \"Seth's Blog\", 'description': \"Seth Godin's Blog on marketing, tribes and respect\", 'language': 'en'}, page_content='what you seek, keep at it.'),\n",
       " Document(metadata={'source': 'https://seths.blog/page/2/', 'title': \"Seth's Blog\", 'description': \"Seth Godin's Blog on marketing, tribes and respect\", 'language': 'en'}, page_content='But often, our instincts are a way of hiding,'),\n",
       " Document(metadata={'source': 'https://seths.blog/page/2/', 'title': \"Seth's Blog\", 'description': \"Seth Godin's Blog on marketing, tribes and respect\", 'language': 'en'}, page_content='undermined by a lack of knowledge. If you haven’t'),\n",
       " Document(metadata={'source': 'https://seths.blog/page/2/', 'title': \"Seth's Blog\", 'description': \"Seth Godin's Blog on marketing, tribes and respect\", 'language': 'en'}, page_content='done the reading and can’t see what the'),\n",
       " Document(metadata={'source': 'https://seths.blog/page/2/', 'title': \"Seth's Blog\", 'description': \"Seth Godin's Blog on marketing, tribes and respect\", 'language': 'en'}, page_content='alternatives might be, instincts might be all you'),\n",
       " Document(metadata={'source': 'https://seths.blog/page/2/', 'title': \"Seth's Blog\", 'description': \"Seth Godin's Blog on marketing, tribes and respect\", 'language': 'en'}, page_content='have left. And if you know the best way and'),\n",
       " Document(metadata={'source': 'https://seths.blog/page/2/', 'title': \"Seth's Blog\", 'description': \"Seth Godin's Blog on marketing, tribes and respect\", 'language': 'en'}, page_content='persist in going with a hunch, it might be'),\n",
       " Document(metadata={'source': 'https://seths.blog/page/2/', 'title': \"Seth's Blog\", 'description': \"Seth Godin's Blog on marketing, tribes and respect\", 'language': 'en'}, page_content='Resistance, a trap put in place by the part of'),\n",
       " Document(metadata={'source': 'https://seths.blog/page/2/', 'title': \"Seth's Blog\", 'description': \"Seth Godin's Blog on marketing, tribes and respect\", 'language': 'en'}, page_content='you that feels like an imposter and is hesitant'),\n",
       " Document(metadata={'source': 'https://seths.blog/page/2/', 'title': \"Seth's Blog\", 'description': \"Seth Godin's Blog on marketing, tribes and respect\", 'language': 'en'}, page_content='to do too well.'),\n",
       " Document(metadata={'source': 'https://seths.blog/page/2/', 'title': \"Seth's Blog\", 'description': \"Seth Godin's Blog on marketing, tribes and respect\", 'language': 'en'}, page_content='If ‘my way’ isn’t helping you get to where you’re'),\n",
       " Document(metadata={'source': 'https://seths.blog/page/2/', 'title': \"Seth's Blog\", 'description': \"Seth Godin's Blog on marketing, tribes and respect\", 'language': 'en'}, page_content='going, it could be that the highway is a more'),\n",
       " Document(metadata={'source': 'https://seths.blog/page/2/', 'title': \"Seth's Blog\", 'description': \"Seth Godin's Blog on marketing, tribes and respect\", 'language': 'en'}, page_content='direct route.'),\n",
       " Document(metadata={'source': 'https://seths.blog/page/2/', 'title': \"Seth's Blog\", 'description': \"Seth Godin's Blog on marketing, tribes and respect\", 'language': 'en'}, page_content='March 3, 2025'),\n",
       " Document(metadata={'source': 'https://seths.blog/page/2/', 'title': \"Seth's Blog\", 'description': \"Seth Godin's Blog on marketing, tribes and respect\", 'language': 'en'}, page_content='Seeking metaphor\\nThis is how we learn.'),\n",
       " Document(metadata={'source': 'https://seths.blog/page/2/', 'title': \"Seth's Blog\", 'description': \"Seth Godin's Blog on marketing, tribes and respect\", 'language': 'en'}, page_content='An apple is a lot like an orange, but you can eat'),\n",
       " Document(metadata={'source': 'https://seths.blog/page/2/', 'title': \"Seth's Blog\", 'description': \"Seth Godin's Blog on marketing, tribes and respect\", 'language': 'en'}, page_content='the skin and it’s not as sweet. If you know what'),\n",
       " Document(metadata={'source': 'https://seths.blog/page/2/', 'title': \"Seth's Blog\", 'description': \"Seth Godin's Blog on marketing, tribes and respect\", 'language': 'en'}, page_content='an orange is, you’re most of the way to'),\n",
       " Document(metadata={'source': 'https://seths.blog/page/2/', 'title': \"Seth's Blog\", 'description': \"Seth Godin's Blog on marketing, tribes and respect\", 'language': 'en'}, page_content='understanding an apple.'),\n",
       " Document(metadata={'source': 'https://seths.blog/page/2/', 'title': \"Seth's Blog\", 'description': \"Seth Godin's Blog on marketing, tribes and respect\", 'language': 'en'}, page_content='But the indoctrination of school pushes us to be'),\n",
       " Document(metadata={'source': 'https://seths.blog/page/2/', 'title': \"Seth's Blog\", 'description': \"Seth Godin's Blog on marketing, tribes and respect\", 'language': 'en'}, page_content='literal. When people talk about apples and'),\n",
       " Document(metadata={'source': 'https://seths.blog/page/2/', 'title': \"Seth's Blog\", 'description': \"Seth Godin's Blog on marketing, tribes and respect\", 'language': 'en'}, page_content='oranges, good students imagine that they’re'),\n",
       " Document(metadata={'source': 'https://seths.blog/page/2/', 'title': \"Seth's Blog\", 'description': \"Seth Godin's Blog on marketing, tribes and respect\", 'language': 'en'}, page_content='talking about apples and oranges.'),\n",
       " Document(metadata={'source': 'https://seths.blog/page/2/', 'title': \"Seth's Blog\", 'description': \"Seth Godin's Blog on marketing, tribes and respect\", 'language': 'en'}, page_content='Even when something is labeled as a metaphor,'),\n",
       " Document(metadata={'source': 'https://seths.blog/page/2/', 'title': \"Seth's Blog\", 'description': \"Seth Godin's Blog on marketing, tribes and respect\", 'language': 'en'}, page_content='it’s a common instinct to simply focus on the'),\n",
       " Document(metadata={'source': 'https://seths.blog/page/2/', 'title': \"Seth's Blog\", 'description': \"Seth Godin's Blog on marketing, tribes and respect\", 'language': 'en'}, page_content='details, not the ideas. If you can make a point'),\n",
       " Document(metadata={'source': 'https://seths.blog/page/2/', 'title': \"Seth's Blog\", 'description': \"Seth Godin's Blog on marketing, tribes and respect\", 'language': 'en'}, page_content='with three very different examples, you’ll begin'),\n",
       " Document(metadata={'source': 'https://seths.blog/page/2/', 'title': \"Seth's Blog\", 'description': \"Seth Godin's Blog on marketing, tribes and respect\", 'language': 'en'}, page_content='to see how powerful metaphor can be.'),\n",
       " Document(metadata={'source': 'https://seths.blog/page/2/', 'title': \"Seth's Blog\", 'description': \"Seth Godin's Blog on marketing, tribes and respect\", 'language': 'en'}, page_content='The hard work is to shift our default. To imagine'),\n",
       " Document(metadata={'source': 'https://seths.blog/page/2/', 'title': \"Seth's Blog\", 'description': \"Seth Godin's Blog on marketing, tribes and respect\", 'language': 'en'}, page_content='that every incident, story or example is actually'),\n",
       " Document(metadata={'source': 'https://seths.blog/page/2/', 'title': \"Seth's Blog\", 'description': \"Seth Godin's Blog on marketing, tribes and respect\", 'language': 'en'}, page_content='a metaphor, and only eventually coming to the'),\n",
       " Document(metadata={'source': 'https://seths.blog/page/2/', 'title': \"Seth's Blog\", 'description': \"Seth Godin's Blog on marketing, tribes and respect\", 'language': 'en'}, page_content='conclusion that the specific details are what’s'),\n",
       " Document(metadata={'source': 'https://seths.blog/page/2/', 'title': \"Seth's Blog\", 'description': \"Seth Godin's Blog on marketing, tribes and respect\", 'language': 'en'}, page_content='on offer.'),\n",
       " Document(metadata={'source': 'https://seths.blog/page/2/', 'title': \"Seth's Blog\", 'description': \"Seth Godin's Blog on marketing, tribes and respect\", 'language': 'en'}, page_content='Logic is symbolic. Learning requires handholds to'),\n",
       " Document(metadata={'source': 'https://seths.blog/page/2/', 'title': \"Seth's Blog\", 'description': \"Seth Godin's Blog on marketing, tribes and respect\", 'language': 'en'}, page_content='help us understand the symbols, but it’s the'),\n",
       " Document(metadata={'source': 'https://seths.blog/page/2/', 'title': \"Seth's Blog\", 'description': \"Seth Godin's Blog on marketing, tribes and respect\", 'language': 'en'}, page_content='logic that remains.'),\n",
       " Document(metadata={'source': 'https://seths.blog/page/2/', 'title': \"Seth's Blog\", 'description': \"Seth Godin's Blog on marketing, tribes and respect\", 'language': 'en'}, page_content='March 2, 2025'),\n",
       " Document(metadata={'source': 'https://seths.blog/page/2/', 'title': \"Seth's Blog\", 'description': \"Seth Godin's Blog on marketing, tribes and respect\", 'language': 'en'}, page_content='March is strategy month'),\n",
       " Document(metadata={'source': 'https://seths.blog/page/2/', 'title': \"Seth's Blog\", 'description': \"Seth Godin's Blog on marketing, tribes and respect\", 'language': 'en'}, page_content='January feels like the start of the year, but'),\n",
       " Document(metadata={'source': 'https://seths.blog/page/2/', 'title': \"Seth's Blog\", 'description': \"Seth Godin's Blog on marketing, tribes and respect\", 'language': 'en'}, page_content='there’s always a hangover from the holidays. In'),\n",
       " Document(metadata={'source': 'https://seths.blog/page/2/', 'title': \"Seth's Blog\", 'description': \"Seth Godin's Blog on marketing, tribes and respect\", 'language': 'en'}, page_content='the northern Hemisphere, February is dark and'),\n",
       " Document(metadata={'source': 'https://seths.blog/page/2/', 'title': \"Seth's Blog\", 'description': \"Seth Godin's Blog on marketing, tribes and respect\", 'language': 'en'}, page_content='dreary and we’re mostly hunkering down waiting'),\n",
       " Document(metadata={'source': 'https://seths.blog/page/2/', 'title': \"Seth's Blog\", 'description': \"Seth Godin's Blog on marketing, tribes and respect\", 'language': 'en'}, page_content='for the short month to end.'),\n",
       " Document(metadata={'source': 'https://seths.blog/page/2/', 'title': \"Seth's Blog\", 'description': \"Seth Godin's Blog on marketing, tribes and respect\", 'language': 'en'}, page_content='But March? Around the world, March can be a'),\n",
       " Document(metadata={'source': 'https://seths.blog/page/2/', 'title': \"Seth's Blog\", 'description': \"Seth Godin's Blog on marketing, tribes and respect\", 'language': 'en'}, page_content='chance to get down to the work we committed to'),\n",
       " Document(metadata={'source': 'https://seths.blog/page/2/', 'title': \"Seth's Blog\", 'description': \"Seth Godin's Blog on marketing, tribes and respect\", 'language': 'en'}, page_content='do.'),\n",
       " Document(metadata={'source': 'https://seths.blog/page/2/', 'title': \"Seth's Blog\", 'description': \"Seth Godin's Blog on marketing, tribes and respect\", 'language': 'en'}, page_content='Invest 31 days into outlining, discussing and'),\n",
       " Document(metadata={'source': 'https://seths.blog/page/2/', 'title': \"Seth's Blog\", 'description': \"Seth Godin's Blog on marketing, tribes and respect\", 'language': 'en'}, page_content='fleshing out the strategy you want to bring to'),\n",
       " Document(metadata={'source': 'https://seths.blog/page/2/', 'title': \"Seth's Blog\", 'description': \"Seth Godin's Blog on marketing, tribes and respect\", 'language': 'en'}, page_content='your career or your project. It doesn’t matter'),\n",
       " Document(metadata={'source': 'https://seths.blog/page/2/', 'title': \"Seth's Blog\", 'description': \"Seth Godin's Blog on marketing, tribes and respect\", 'language': 'en'}, page_content='how fast you’re going if you’re headed in the'),\n",
       " Document(metadata={'source': 'https://seths.blog/page/2/', 'title': \"Seth's Blog\", 'description': \"Seth Godin's Blog on marketing, tribes and respect\", 'language': 'en'}, page_content='wrong direction.'),\n",
       " Document(metadata={'source': 'https://seths.blog/page/2/', 'title': \"Seth's Blog\", 'description': \"Seth Godin's Blog on marketing, tribes and respect\", 'language': 'en'}, page_content='Here are two resources to consider:'),\n",
       " Document(metadata={'source': 'https://seths.blog/page/2/', 'title': \"Seth's Blog\", 'description': \"Seth Godin's Blog on marketing, tribes and respect\", 'language': 'en'}, page_content='Purple.space is a worldwide community of more'),\n",
       " Document(metadata={'source': 'https://seths.blog/page/2/', 'title': \"Seth's Blog\", 'description': \"Seth Godin's Blog on marketing, tribes and respect\", 'language': 'en'}, page_content='than 1,000 people supporting each other as they'),\n",
       " Document(metadata={'source': 'https://seths.blog/page/2/', 'title': \"Seth's Blog\", 'description': \"Seth Godin's Blog on marketing, tribes and respect\", 'language': 'en'}, page_content='seek to do the work. It’s not a social network,'),\n",
       " Document(metadata={'source': 'https://seths.blog/page/2/', 'title': \"Seth's Blog\", 'description': \"Seth Godin's Blog on marketing, tribes and respect\", 'language': 'en'}, page_content='it’s a community of practice, worth more than it'),\n",
       " Document(metadata={'source': 'https://seths.blog/page/2/', 'title': \"Seth's Blog\", 'description': \"Seth Godin's Blog on marketing, tribes and respect\", 'language': 'en'}, page_content='costs. It also includes access to many of my'),\n",
       " Document(metadata={'source': 'https://seths.blog/page/2/', 'title': \"Seth's Blog\", 'description': \"Seth Godin's Blog on marketing, tribes and respect\", 'language': 'en'}, page_content='video workshops, best done as a team. Find the'),\n",
       " Document(metadata={'source': 'https://seths.blog/page/2/', 'title': \"Seth's Blog\", 'description': \"Seth Godin's Blog on marketing, tribes and respect\", 'language': 'en'}, page_content='others.'),\n",
       " Document(metadata={'source': 'https://seths.blog/page/2/', 'title': \"Seth's Blog\", 'description': \"Seth Godin's Blog on marketing, tribes and respect\", 'language': 'en'}, page_content='This is Strategy, my latest book, is available in'),\n",
       " Document(metadata={'source': 'https://seths.blog/page/2/', 'title': \"Seth's Blog\", 'description': \"Seth Godin's Blog on marketing, tribes and respect\", 'language': 'en'}, page_content='print, audio and as a deck of cards that make it'),\n",
       " Document(metadata={'source': 'https://seths.blog/page/2/', 'title': \"Seth's Blog\", 'description': \"Seth Godin's Blog on marketing, tribes and respect\", 'language': 'en'}, page_content='easy to dig ever deeper into what needs to be'),\n",
       " Document(metadata={'source': 'https://seths.blog/page/2/', 'title': \"Seth's Blog\", 'description': \"Seth Godin's Blog on marketing, tribes and respect\", 'language': 'en'}, page_content='done and what’s holding you back.'),\n",
       " Document(metadata={'source': 'https://seths.blog/page/2/', 'title': \"Seth's Blog\", 'description': \"Seth Godin's Blog on marketing, tribes and respect\", 'language': 'en'}, page_content='Better is possible.\\n \\nMarch 1, 2025'),\n",
       " Document(metadata={'source': 'https://seths.blog/page/2/', 'title': \"Seth's Blog\", 'description': \"Seth Godin's Blog on marketing, tribes and respect\", 'language': 'en'}, page_content='The Ikea metaphors'),\n",
       " Document(metadata={'source': 'https://seths.blog/page/2/', 'title': \"Seth's Blog\", 'description': \"Seth Godin's Blog on marketing, tribes and respect\", 'language': 'en'}, page_content='When you assemble something for the second time,'),\n",
       " Document(metadata={'source': 'https://seths.blog/page/2/', 'title': \"Seth's Blog\", 'description': \"Seth Godin's Blog on marketing, tribes and respect\", 'language': 'en'}, page_content='it will be easier than the first time.'),\n",
       " Document(metadata={'source': 'https://seths.blog/page/2/', 'title': \"Seth's Blog\", 'description': \"Seth Godin's Blog on marketing, tribes and respect\", 'language': 'en'}, page_content='The quality of the instructions and design'),\n",
       " Document(metadata={'source': 'https://seths.blog/page/2/', 'title': \"Seth's Blog\", 'description': \"Seth Godin's Blog on marketing, tribes and respect\", 'language': 'en'}, page_content='determine how big a difference experience makes.'),\n",
       " Document(metadata={'source': 'https://seths.blog/page/2/', 'title': \"Seth's Blog\", 'description': \"Seth Godin's Blog on marketing, tribes and respect\", 'language': 'en'}, page_content='If you’re only going to do it once, perhaps it'),\n",
       " Document(metadata={'source': 'https://seths.blog/page/2/', 'title': \"Seth's Blog\", 'description': \"Seth Godin's Blog on marketing, tribes and respect\", 'language': 'en'}, page_content='pays to hire someone who has experience.'),\n",
       " Document(metadata={'source': 'https://seths.blog/page/2/', 'title': \"Seth's Blog\", 'description': \"Seth Godin's Blog on marketing, tribes and respect\", 'language': 'en'}, page_content='All instructions could be better, and all design'),\n",
       " Document(metadata={'source': 'https://seths.blog/page/2/', 'title': \"Seth's Blog\", 'description': \"Seth Godin's Blog on marketing, tribes and respect\", 'language': 'en'}, page_content='benefits from empathy.'),\n",
       " Document(metadata={'source': 'https://seths.blog/page/2/', 'title': \"Seth's Blog\", 'description': \"Seth Godin's Blog on marketing, tribes and respect\", 'language': 'en'}, page_content='The lonely unicorn'),\n",
       " Document(metadata={'source': 'https://seths.blog/page/2/', 'title': \"Seth's Blog\", 'description': \"Seth Godin's Blog on marketing, tribes and respect\", 'language': 'en'}, page_content='That’s not what usually happens.'),\n",
       " Document(metadata={'source': 'https://seths.blog/page/2/', 'title': \"Seth's Blog\", 'description': \"Seth Godin's Blog on marketing, tribes and respect\", 'language': 'en'}, page_content='If there’s at least one unicorn in the world,'),\n",
       " Document(metadata={'source': 'https://seths.blog/page/2/', 'title': \"Seth's Blog\", 'description': \"Seth Godin's Blog on marketing, tribes and respect\", 'language': 'en'}, page_content='it’s likely not the only one.'),\n",
       " Document(metadata={'source': 'https://seths.blog/page/2/', 'title': \"Seth's Blog\", 'description': \"Seth Godin's Blog on marketing, tribes and respect\", 'language': 'en'}, page_content='And if one can make a valid English word from'),\n",
       " Document(metadata={'source': 'https://seths.blog/page/2/', 'title': \"Seth's Blog\", 'description': \"Seth Godin's Blog on marketing, tribes and respect\", 'language': 'en'}, page_content='seven Scrabble tiles, it’s likely that more than'),\n",
       " Document(metadata={'source': 'https://seths.blog/page/2/', 'title': \"Seth's Blog\", 'description': \"Seth Godin's Blog on marketing, tribes and respect\", 'language': 'en'}, page_content='one word can be found.'),\n",
       " Document(metadata={'source': 'https://seths.blog/page/2/', 'title': \"Seth's Blog\", 'description': \"Seth Godin's Blog on marketing, tribes and respect\", 'language': 'en'}, page_content='“Impossible” is a very large set of situations.'),\n",
       " Document(metadata={'source': 'https://seths.blog/page/2/', 'title': \"Seth's Blog\", 'description': \"Seth Godin's Blog on marketing, tribes and respect\", 'language': 'en'}, page_content='But once something is possible, it’s unusual for'),\n",
       " Document(metadata={'source': 'https://seths.blog/page/2/', 'title': \"Seth's Blog\", 'description': \"Seth Godin's Blog on marketing, tribes and respect\", 'language': 'en'}, page_content='there to be only one way.'),\n",
       " Document(metadata={'source': 'https://seths.blog/page/2/', 'title': \"Seth's Blog\", 'description': \"Seth Godin's Blog on marketing, tribes and respect\", 'language': 'en'}, page_content='If you’re looking for an interesting project, a'),\n",
       " Document(metadata={'source': 'https://seths.blog/page/2/', 'title': \"Seth's Blog\", 'description': \"Seth Godin's Blog on marketing, tribes and respect\", 'language': 'en'}, page_content='useful shortcut is finding someone who has'),\n",
       " Document(metadata={'source': 'https://seths.blog/page/2/', 'title': \"Seth's Blog\", 'description': \"Seth Godin's Blog on marketing, tribes and respect\", 'language': 'en'}, page_content='already done something similar and then altering'),\n",
       " Document(metadata={'source': 'https://seths.blog/page/2/', 'title': \"Seth's Blog\", 'description': \"Seth Godin's Blog on marketing, tribes and respect\", 'language': 'en'}, page_content='or improving it.'),\n",
       " Document(metadata={'source': 'https://seths.blog/page/2/', 'title': \"Seth's Blog\", 'description': \"Seth Godin's Blog on marketing, tribes and respect\", 'language': 'en'}, page_content='No extra points for being the one and only one in'),\n",
       " Document(metadata={'source': 'https://seths.blog/page/2/', 'title': \"Seth's Blog\", 'description': \"Seth Godin's Blog on marketing, tribes and respect\", 'language': 'en'}, page_content='your category.'),\n",
       " Document(metadata={'source': 'https://seths.blog/page/2/', 'title': \"Seth's Blog\", 'description': \"Seth Godin's Blog on marketing, tribes and respect\", 'language': 'en'}, page_content='February 28, 2025'),\n",
       " Document(metadata={'source': 'https://seths.blog/page/2/', 'title': \"Seth's Blog\", 'description': \"Seth Godin's Blog on marketing, tribes and respect\", 'language': 'en'}, page_content='Getting precise about tolerance'),\n",
       " Document(metadata={'source': 'https://seths.blog/page/2/', 'title': \"Seth's Blog\", 'description': \"Seth Godin's Blog on marketing, tribes and respect\", 'language': 'en'}, page_content='Tolerance is an engineering term. When the parts'),\n",
       " Document(metadata={'source': 'https://seths.blog/page/2/', 'title': \"Seth's Blog\", 'description': \"Seth Godin's Blog on marketing, tribes and respect\", 'language': 'en'}, page_content='of a car are made to a low tolerance, that means'),\n",
       " Document(metadata={'source': 'https://seths.blog/page/2/', 'title': \"Seth's Blog\", 'description': \"Seth Godin's Blog on marketing, tribes and respect\", 'language': 'en'}, page_content='that they fit perfectly. A modern Lexus is a'),\n",
       " Document(metadata={'source': 'https://seths.blog/page/2/', 'title': \"Seth's Blog\", 'description': \"Seth Godin's Blog on marketing, tribes and respect\", 'language': 'en'}, page_content='better car than a 1976 Nova because relentless'),\n",
       " Document(metadata={'source': 'https://seths.blog/page/2/', 'title': \"Seth's Blog\", 'description': \"Seth Godin's Blog on marketing, tribes and respect\", 'language': 'en'}, page_content='improvement means that the parts are more exact.'),\n",
       " Document(metadata={'source': 'https://seths.blog/page/2/', 'title': \"Seth's Blog\", 'description': \"Seth Godin's Blog on marketing, tribes and respect\", 'language': 'en'}, page_content='Tolerance is a design term. When a system can'),\n",
       " Document(metadata={'source': 'https://seths.blog/page/2/', 'title': \"Seth's Blog\", 'description': \"Seth Godin's Blog on marketing, tribes and respect\", 'language': 'en'}, page_content='tolerate non-perfect users and interventions, the'),\n",
       " Document(metadata={'source': 'https://seths.blog/page/2/', 'title': \"Seth's Blog\", 'description': \"Seth Godin's Blog on marketing, tribes and respect\", 'language': 'en'}, page_content='interoperability increases and so a high'),\n",
       " Document(metadata={'source': 'https://seths.blog/page/2/', 'title': \"Seth's Blog\", 'description': \"Seth Godin's Blog on marketing, tribes and respect\", 'language': 'en'}, page_content='tolerance design is often seen as more'),\n",
       " Document(metadata={'source': 'https://seths.blog/page/2/', 'title': \"Seth's Blog\", 'description': \"Seth Godin's Blog on marketing, tribes and respect\", 'language': 'en'}, page_content='successful.'),\n",
       " Document(metadata={'source': 'https://seths.blog/page/2/', 'title': \"Seth's Blog\", 'description': \"Seth Godin's Blog on marketing, tribes and respect\", 'language': 'en'}, page_content='Tolerance is a systems term. When we build a'),\n",
       " Document(metadata={'source': 'https://seths.blog/page/2/', 'title': \"Seth's Blog\", 'description': \"Seth Godin's Blog on marketing, tribes and respect\", 'language': 'en'}, page_content='community that can thrive when everything isn’t'),\n",
       " Document(metadata={'source': 'https://seths.blog/page/2/', 'title': \"Seth's Blog\", 'description': \"Seth Godin's Blog on marketing, tribes and respect\", 'language': 'en'}, page_content='exactly the same, the community is more likely to'),\n",
       " Document(metadata={'source': 'https://seths.blog/page/2/', 'title': \"Seth's Blog\", 'description': \"Seth Godin's Blog on marketing, tribes and respect\", 'language': 'en'}, page_content='produce connection, health and well being.'),\n",
       " Document(metadata={'source': 'https://seths.blog/page/2/', 'title': \"Seth's Blog\", 'description': \"Seth Godin's Blog on marketing, tribes and respect\", 'language': 'en'}, page_content='Tolerance is a personal-interaction term. If our'),\n",
       " Document(metadata={'source': 'https://seths.blog/page/2/', 'title': \"Seth's Blog\", 'description': \"Seth Godin's Blog on marketing, tribes and respect\", 'language': 'en'}, page_content='dealings with someone don’t go well, we’re still'),\n",
       " Document(metadata={'source': 'https://seths.blog/page/2/', 'title': \"Seth's Blog\", 'description': \"Seth Godin's Blog on marketing, tribes and respect\", 'language': 'en'}, page_content='able to recover and even produce useful work or'),\n",
       " Document(metadata={'source': 'https://seths.blog/page/2/', 'title': \"Seth's Blog\", 'description': \"Seth Godin's Blog on marketing, tribes and respect\", 'language': 'en'}, page_content='play together if our tolerance for frustration is'),\n",
       " Document(metadata={'source': 'https://seths.blog/page/2/', 'title': \"Seth's Blog\", 'description': \"Seth Godin's Blog on marketing, tribes and respect\", 'language': 'en'}, page_content='high.'),\n",
       " Document(metadata={'source': 'https://seths.blog/page/2/', 'title': \"Seth's Blog\", 'description': \"Seth Godin's Blog on marketing, tribes and respect\", 'language': 'en'}, page_content='Tolerance is a disability term. When a user'),\n",
       " Document(metadata={'source': 'https://seths.blog/page/2/', 'title': \"Seth's Blog\", 'description': \"Seth Godin's Blog on marketing, tribes and respect\", 'language': 'en'}, page_content='brings different skills, languages, boundaries'),\n",
       " Document(metadata={'source': 'https://seths.blog/page/2/', 'title': \"Seth's Blog\", 'description': \"Seth Godin's Blog on marketing, tribes and respect\", 'language': 'en'}, page_content='and skills to a system, a tolerant solution'),\n",
       " Document(metadata={'source': 'https://seths.blog/page/2/', 'title': \"Seth's Blog\", 'description': \"Seth Godin's Blog on marketing, tribes and respect\", 'language': 'en'}, page_content='allows them to thrive.'),\n",
       " Document(metadata={'source': 'https://seths.blog/page/2/', 'title': \"Seth's Blog\", 'description': \"Seth Godin's Blog on marketing, tribes and respect\", 'language': 'en'}, page_content='And tolerance is a climate term. When the built'),\n",
       " Document(metadata={'source': 'https://seths.blog/page/2/', 'title': \"Seth's Blog\", 'description': \"Seth Godin's Blog on marketing, tribes and respect\", 'language': 'en'}, page_content='world becomes more resilient, it not only'),\n",
       " Document(metadata={'source': 'https://seths.blog/page/2/', 'title': \"Seth's Blog\", 'description': \"Seth Godin's Blog on marketing, tribes and respect\", 'language': 'en'}, page_content='survives the unexpected, it doesn’t make things'),\n",
       " Document(metadata={'source': 'https://seths.blog/page/2/', 'title': \"Seth's Blog\", 'description': \"Seth Godin's Blog on marketing, tribes and respect\", 'language': 'en'}, page_content='worse.'),\n",
       " Document(metadata={'source': 'https://seths.blog/page/2/', 'title': \"Seth's Blog\", 'description': \"Seth Godin's Blog on marketing, tribes and respect\", 'language': 'en'}, page_content='Low tolerance manufacturing takes dedication and'),\n",
       " Document(metadata={'source': 'https://seths.blog/page/2/', 'title': \"Seth's Blog\", 'description': \"Seth Godin's Blog on marketing, tribes and respect\", 'language': 'en'}, page_content='skill. And it permits us to be high tolerance in'),\n",
       " Document(metadata={'source': 'https://seths.blog/page/2/', 'title': \"Seth's Blog\", 'description': \"Seth Godin's Blog on marketing, tribes and respect\", 'language': 'en'}, page_content='the rest of our processes. An organization that'),\n",
       " Document(metadata={'source': 'https://seths.blog/page/2/', 'title': \"Seth's Blog\", 'description': \"Seth Godin's Blog on marketing, tribes and respect\", 'language': 'en'}, page_content='tries to limit incoming participation and has'),\n",
       " Document(metadata={'source': 'https://seths.blog/page/2/', 'title': \"Seth's Blog\", 'description': \"Seth Godin's Blog on marketing, tribes and respect\", 'language': 'en'}, page_content='rigid rules probably doesn’t trust the tolerance'),\n",
       " Document(metadata={'source': 'https://seths.blog/page/2/', 'title': \"Seth's Blog\", 'description': \"Seth Godin's Blog on marketing, tribes and respect\", 'language': 'en'}, page_content='of their underlying stack.'),\n",
       " Document(metadata={'source': 'https://seths.blog/page/2/', 'title': \"Seth's Blog\", 'description': \"Seth Godin's Blog on marketing, tribes and respect\", 'language': 'en'}, page_content='It’s interesting to put all this together and'),\n",
       " Document(metadata={'source': 'https://seths.blog/page/2/', 'title': \"Seth's Blog\", 'description': \"Seth Godin's Blog on marketing, tribes and respect\", 'language': 'en'}, page_content='think about Lego blocks.'),\n",
       " Document(metadata={'source': 'https://seths.blog/page/2/', 'title': \"Seth's Blog\", 'description': \"Seth Godin's Blog on marketing, tribes and respect\", 'language': 'en'}, page_content='For generations, Lego pieces have been made to'),\n",
       " Document(metadata={'source': 'https://seths.blog/page/2/', 'title': \"Seth's Blog\", 'description': \"Seth Godin's Blog on marketing, tribes and respect\", 'language': 'en'}, page_content='low tolerances. They stick together and come'),\n",
       " Document(metadata={'source': 'https://seths.blog/page/2/', 'title': \"Seth's Blog\", 'description': \"Seth Godin's Blog on marketing, tribes and respect\", 'language': 'en'}, page_content='apart with precision. This allows them to work'),\n",
       " Document(metadata={'source': 'https://seths.blog/page/2/', 'title': \"Seth's Blog\", 'description': \"Seth Godin's Blog on marketing, tribes and respect\", 'language': 'en'}, page_content='extremely well with any other part the company'),\n",
       " Document(metadata={'source': 'https://seths.blog/page/2/', 'title': \"Seth's Blog\", 'description': \"Seth Godin's Blog on marketing, tribes and respect\", 'language': 'en'}, page_content='has ever made. And because of their long-lasting'),\n",
       " Document(metadata={'source': 'https://seths.blog/page/2/', 'title': \"Seth's Blog\", 'description': \"Seth Godin's Blog on marketing, tribes and respect\", 'language': 'en'}, page_content='simplicity, they can be used in ways the creators'),\n",
       " Document(metadata={'source': 'https://seths.blog/page/2/', 'title': \"Seth's Blog\", 'description': \"Seth Godin's Blog on marketing, tribes and respect\", 'language': 'en'}, page_content='of the toy didn’t expect… to furnish an aquarium'),\n",
       " Document(metadata={'source': 'https://seths.blog/page/2/', 'title': \"Seth's Blog\", 'description': \"Seth Godin's Blog on marketing, tribes and respect\", 'language': 'en'}, page_content='or to build life-sized sculptures, for example.'),\n",
       " Document(metadata={'source': 'https://seths.blog/page/2/', 'title': \"Seth's Blog\", 'description': \"Seth Godin's Blog on marketing, tribes and respect\", 'language': 'en'}, page_content='People aren’t toys, and the variations we deal'),\n",
       " Document(metadata={'source': 'https://seths.blog/page/2/', 'title': \"Seth's Blog\", 'description': \"Seth Godin's Blog on marketing, tribes and respect\", 'language': 'en'}, page_content='with are a bit harder to predict. And changing'),\n",
       " Document(metadata={'source': 'https://seths.blog/page/2/', 'title': \"Seth's Blog\", 'description': \"Seth Godin's Blog on marketing, tribes and respect\", 'language': 'en'}, page_content='systems and climate are less predictable than'),\n",
       " Document(metadata={'source': 'https://seths.blog/page/2/', 'title': \"Seth's Blog\", 'description': \"Seth Godin's Blog on marketing, tribes and respect\", 'language': 'en'}, page_content='most toddlers, so there are surprising variations'),\n",
       " Document(metadata={'source': 'https://seths.blog/page/2/', 'title': \"Seth's Blog\", 'description': \"Seth Godin's Blog on marketing, tribes and respect\", 'language': 'en'}, page_content='there as well.'),\n",
       " Document(metadata={'source': 'https://seths.blog/page/2/', 'title': \"Seth's Blog\", 'description': \"Seth Godin's Blog on marketing, tribes and respect\", 'language': 'en'}, page_content='The thing is, tolerance is achievable. And'),\n",
       " Document(metadata={'source': 'https://seths.blog/page/2/', 'title': \"Seth's Blog\", 'description': \"Seth Godin's Blog on marketing, tribes and respect\", 'language': 'en'}, page_content='tolerance creates value. But it helps to name it,'),\n",
       " Document(metadata={'source': 'https://seths.blog/page/2/', 'title': \"Seth's Blog\", 'description': \"Seth Godin's Blog on marketing, tribes and respect\", 'language': 'en'}, page_content='measure it and seek it out.'),\n",
       " Document(metadata={'source': 'https://seths.blog/page/2/', 'title': \"Seth's Blog\", 'description': \"Seth Godin's Blog on marketing, tribes and respect\", 'language': 'en'}, page_content='February 27, 2025'),\n",
       " Document(metadata={'source': 'https://seths.blog/page/2/', 'title': \"Seth's Blog\", 'description': \"Seth Godin's Blog on marketing, tribes and respect\", 'language': 'en'}, page_content='At the speed of judgment'),\n",
       " Document(metadata={'source': 'https://seths.blog/page/2/', 'title': \"Seth's Blog\", 'description': \"Seth Godin's Blog on marketing, tribes and respect\", 'language': 'en'}, page_content='Getting to the conference in Santa Fe isn’t'),\n",
       " Document(metadata={'source': 'https://seths.blog/page/2/', 'title': \"Seth's Blog\", 'description': \"Seth Godin's Blog on marketing, tribes and respect\", 'language': 'en'}, page_content='difficult. Someone will drive/fly you there. The'),\n",
       " Document(metadata={'source': 'https://seths.blog/page/2/', 'title': \"Seth's Blog\", 'description': \"Seth Godin's Blog on marketing, tribes and respect\", 'language': 'en'}, page_content='hard part is deciding to go. And yet, it might'),\n",
       " Document(metadata={'source': 'https://seths.blog/page/2/', 'title': \"Seth's Blog\", 'description': \"Seth Godin's Blog on marketing, tribes and respect\", 'language': 'en'}, page_content='take 8 hours to arrive.'),\n",
       " Document(metadata={'source': 'https://seths.blog/page/2/', 'title': \"Seth's Blog\", 'description': \"Seth Godin's Blog on marketing, tribes and respect\", 'language': 'en'}, page_content='If they invented teleportation and offered it for'),\n",
       " Document(metadata={'source': 'https://seths.blog/page/2/', 'title': \"Seth's Blog\", 'description': \"Seth Godin's Blog on marketing, tribes and respect\", 'language': 'en'}, page_content='free, it would be very clear that where we went'),\n",
       " Document(metadata={'source': 'https://seths.blog/page/2/', 'title': \"Seth's Blog\", 'description': \"Seth Godin's Blog on marketing, tribes and respect\", 'language': 'en'}, page_content='would simply depend on where we decided to go,'),\n",
       " Document(metadata={'source': 'https://seths.blog/page/2/', 'title': \"Seth's Blog\", 'description': \"Seth Godin's Blog on marketing, tribes and respect\", 'language': 'en'}, page_content='not the mechanics, cost or time it took.'),\n",
       " Document(metadata={'source': 'https://seths.blog/page/2/', 'title': \"Seth's Blog\", 'description': \"Seth Godin's Blog on marketing, tribes and respect\", 'language': 'en'}, page_content='But physical presence is not the driving force in'),\n",
       " Document(metadata={'source': 'https://seths.blog/page/2/', 'title': \"Seth's Blog\", 'description': \"Seth Godin's Blog on marketing, tribes and respect\", 'language': 'en'}, page_content='our world now.'),\n",
       " Document(metadata={'source': 'https://seths.blog/page/2/', 'title': \"Seth's Blog\", 'description': \"Seth Godin's Blog on marketing, tribes and respect\", 'language': 'en'}, page_content='In 2025, if you want to learn something, you can.'),\n",
       " Document(metadata={'source': 'https://seths.blog/page/2/', 'title': \"Seth's Blog\", 'description': \"Seth Godin's Blog on marketing, tribes and respect\", 'language': 'en'}, page_content='Probably for free, and faster than ever before.'),\n",
       " Document(metadata={'source': 'https://seths.blog/page/2/', 'title': \"Seth's Blog\", 'description': \"Seth Godin's Blog on marketing, tribes and respect\", 'language': 'en'}, page_content='That statement has never been as true as it is'),\n",
       " Document(metadata={'source': 'https://seths.blog/page/2/', 'title': \"Seth's Blog\", 'description': \"Seth Godin's Blog on marketing, tribes and respect\", 'language': 'en'}, page_content='now.'),\n",
       " Document(metadata={'source': 'https://seths.blog/page/2/', 'title': \"Seth's Blog\", 'description': \"Seth Godin's Blog on marketing, tribes and respect\", 'language': 'en'}, page_content='Beyond that… with an app like cursor, if you want'),\n",
       " Document(metadata={'source': 'https://seths.blog/page/2/', 'title': \"Seth's Blog\", 'description': \"Seth Godin's Blog on marketing, tribes and respect\", 'language': 'en'}, page_content='to write computer code, you can. The hard part is'),\n",
       " Document(metadata={'source': 'https://seths.blog/page/2/', 'title': \"Seth's Blog\", 'description': \"Seth Godin's Blog on marketing, tribes and respect\", 'language': 'en'}, page_content='deciding what to build.'),\n",
       " Document(metadata={'source': 'https://seths.blog/page/2/', 'title': \"Seth's Blog\", 'description': \"Seth Godin's Blog on marketing, tribes and respect\", 'language': 'en'}, page_content='But it turns out that deciding is only half of'),\n",
       " Document(metadata={'source': 'https://seths.blog/page/2/', 'title': \"Seth's Blog\", 'description': \"Seth Godin's Blog on marketing, tribes and respect\", 'language': 'en'}, page_content='it.'),\n",
       " Document(metadata={'source': 'https://seths.blog/page/2/', 'title': \"Seth's Blog\", 'description': \"Seth Godin's Blog on marketing, tribes and respect\", 'language': 'en'}, page_content='In order to actually make a difference, we have'),\n",
       " Document(metadata={'source': 'https://seths.blog/page/2/', 'title': \"Seth's Blog\", 'description': \"Seth Godin's Blog on marketing, tribes and respect\", 'language': 'en'}, page_content='to move no faster than the speed of trust.'),\n",
       " Document(metadata={'source': 'https://seths.blog/page/2/', 'title': \"Seth's Blog\", 'description': \"Seth Godin's Blog on marketing, tribes and respect\", 'language': 'en'}, page_content='Who is giving us the benefit of the doubt? Who'),\n",
       " Document(metadata={'source': 'https://seths.blog/page/2/', 'title': \"Seth's Blog\", 'description': \"Seth Godin's Blog on marketing, tribes and respect\", 'language': 'en'}, page_content='have we earned enrollment with? Where is our'),\n",
       " Document(metadata={'source': 'https://seths.blog/page/2/', 'title': \"Seth's Blog\", 'description': \"Seth Godin's Blog on marketing, tribes and respect\", 'language': 'en'}, page_content='agency?'),\n",
       " Document(metadata={'source': 'https://seths.blog/page/2/', 'title': \"Seth's Blog\", 'description': \"Seth Godin's Blog on marketing, tribes and respect\", 'language': 'en'}, page_content='Making good decisions with and for a group of'),\n",
       " Document(metadata={'source': 'https://seths.blog/page/2/', 'title': \"Seth's Blog\", 'description': \"Seth Godin's Blog on marketing, tribes and respect\", 'language': 'en'}, page_content='people who believe us is called leadership.'),\n",
       " Document(metadata={'source': 'https://seths.blog/page/2/', 'title': \"Seth's Blog\", 'description': \"Seth Godin's Blog on marketing, tribes and respect\", 'language': 'en'}, page_content='We’re often afraid to lead. Afraid of the'),\n",
       " Document(metadata={'source': 'https://seths.blog/page/2/', 'title': \"Seth's Blog\", 'description': \"Seth Godin's Blog on marketing, tribes and respect\", 'language': 'en'}, page_content='responsibility. Indoctrinated to let someone else'),\n",
       " Document(metadata={'source': 'https://seths.blog/page/2/', 'title': \"Seth's Blog\", 'description': \"Seth Godin's Blog on marketing, tribes and respect\", 'language': 'en'}, page_content='take the wheel and to take the blame.'),\n",
       " Document(metadata={'source': 'https://seths.blog/page/2/', 'title': \"Seth's Blog\", 'description': \"Seth Godin's Blog on marketing, tribes and respect\", 'language': 'en'}, page_content='The easiest way to avoid leadership was to blame'),\n",
       " Document(metadata={'source': 'https://seths.blog/page/2/', 'title': \"Seth's Blog\", 'description': \"Seth Godin's Blog on marketing, tribes and respect\", 'language': 'en'}, page_content='all the heavy lifting and resources required.'),\n",
       " Document(metadata={'source': 'https://seths.blog/page/2/', 'title': \"Seth's Blog\", 'description': \"Seth Godin's Blog on marketing, tribes and respect\", 'language': 'en'}, page_content='But in more and more ways, we can lead with'),\n",
       " Document(metadata={'source': 'https://seths.blog/page/2/', 'title': \"Seth's Blog\", 'description': \"Seth Godin's Blog on marketing, tribes and respect\", 'language': 'en'}, page_content='nothing but judgment and trust.'),\n",
       " Document(metadata={'source': 'https://seths.blog/page/2/', 'title': \"Seth's Blog\", 'description': \"Seth Godin's Blog on marketing, tribes and respect\", 'language': 'en'}, page_content='If we care.\\n \\nFebruary 26, 2025'),\n",
       " Document(metadata={'source': 'https://seths.blog/page/2/', 'title': \"Seth's Blog\", 'description': \"Seth Godin's Blog on marketing, tribes and respect\", 'language': 'en'}, page_content='Long-term selfish (and the circles of us and now)'),\n",
       " Document(metadata={'source': 'https://seths.blog/page/2/', 'title': \"Seth's Blog\", 'description': \"Seth Godin's Blog on marketing, tribes and respect\", 'language': 'en'}, page_content='Whenever we make a choice, we do our best. We'),\n",
       " Document(metadata={'source': 'https://seths.blog/page/2/', 'title': \"Seth's Blog\", 'description': \"Seth Godin's Blog on marketing, tribes and respect\", 'language': 'en'}, page_content='make a decision based on our interests. In other'),\n",
       " Document(metadata={'source': 'https://seths.blog/page/2/', 'title': \"Seth's Blog\", 'description': \"Seth Godin's Blog on marketing, tribes and respect\", 'language': 'en'}, page_content='words, it’s selfish.'),\n",
       " Document(metadata={'source': 'https://seths.blog/page/2/', 'title': \"Seth's Blog\", 'description': \"Seth Godin's Blog on marketing, tribes and respect\", 'language': 'en'}, page_content='So what makes a choice a selfish act worth'),\n",
       " Document(metadata={'source': 'https://seths.blog/page/2/', 'title': \"Seth's Blog\", 'description': \"Seth Godin's Blog on marketing, tribes and respect\", 'language': 'en'}, page_content='addressing?'),\n",
       " Document(metadata={'source': 'https://seths.blog/page/2/', 'title': \"Seth's Blog\", 'description': \"Seth Godin's Blog on marketing, tribes and respect\", 'language': 'en'}, page_content='There are two circles: the circle of us and the'),\n",
       " Document(metadata={'source': 'https://seths.blog/page/2/', 'title': \"Seth's Blog\", 'description': \"Seth Godin's Blog on marketing, tribes and respect\", 'language': 'en'}, page_content='circle of now.'),\n",
       " Document(metadata={'source': 'https://seths.blog/page/2/', 'title': \"Seth's Blog\", 'description': \"Seth Godin's Blog on marketing, tribes and respect\", 'language': 'en'}, page_content='A selfish toddler keeps both circles very small.'),\n",
       " Document(metadata={'source': 'https://seths.blog/page/2/', 'title': \"Seth's Blog\", 'description': \"Seth Godin's Blog on marketing, tribes and respect\", 'language': 'en'}, page_content='They care about right now, not later. They care'),\n",
       " Document(metadata={'source': 'https://seths.blog/page/2/', 'title': \"Seth's Blog\", 'description': \"Seth Godin's Blog on marketing, tribes and respect\", 'language': 'en'}, page_content='about their parents or whomever is in the room.'),\n",
       " Document(metadata={'source': 'https://seths.blog/page/2/', 'title': \"Seth's Blog\", 'description': \"Seth Godin's Blog on marketing, tribes and respect\", 'language': 'en'}, page_content='That’s it.'),\n",
       " Document(metadata={'source': 'https://seths.blog/page/2/', 'title': \"Seth's Blog\", 'description': \"Seth Godin's Blog on marketing, tribes and respect\", 'language': 'en'}, page_content='The toddler who draws all over the couch in black'),\n",
       " Document(metadata={'source': 'https://seths.blog/page/2/', 'title': \"Seth's Blog\", 'description': \"Seth Godin's Blog on marketing, tribes and respect\", 'language': 'en'}, page_content='marker is having fun right now, and selfishly'),\n",
       " Document(metadata={'source': 'https://seths.blog/page/2/', 'title': \"Seth's Blog\", 'description': \"Seth Godin's Blog on marketing, tribes and respect\", 'language': 'en'}, page_content='causing a problem for others, and for the future.'),\n",
       " Document(metadata={'source': 'https://seths.blog/page/2/', 'title': \"Seth's Blog\", 'description': \"Seth Godin's Blog on marketing, tribes and respect\", 'language': 'en'}, page_content='Smoking cigarettes is short-term selfish. The you'),\n",
       " Document(metadata={'source': 'https://seths.blog/page/2/', 'title': \"Seth's Blog\", 'description': \"Seth Godin's Blog on marketing, tribes and respect\", 'language': 'en'}, page_content='of the future is unlikely to thank teenager-you'),\n",
       " Document(metadata={'source': 'https://seths.blog/page/2/', 'title': \"Seth's Blog\", 'description': \"Seth Godin's Blog on marketing, tribes and respect\", 'language': 'en'}, page_content='for starting.'),\n",
       " Document(metadata={'source': 'https://seths.blog/page/2/', 'title': \"Seth's Blog\", 'description': \"Seth Godin's Blog on marketing, tribes and respect\", 'language': 'en'}, page_content='And raising parrots in your small apartment is a'),\n",
       " Document(metadata={'source': 'https://seths.blog/page/2/', 'title': \"Seth's Blog\", 'description': \"Seth Godin's Blog on marketing, tribes and respect\", 'language': 'en'}, page_content='different sort of selfish. It’s not surprising'),\n",
       " Document(metadata={'source': 'https://seths.blog/page/2/', 'title': \"Seth's Blog\", 'description': \"Seth Godin's Blog on marketing, tribes and respect\", 'language': 'en'}, page_content='that your neighbors will hope you stop.'),\n",
       " Document(metadata={'source': 'https://seths.blog/page/2/', 'title': \"Seth's Blog\", 'description': \"Seth Godin's Blog on marketing, tribes and respect\", 'language': 'en'}, page_content='You may have noticed that the world keeps getting'),\n",
       " Document(metadata={'source': 'https://seths.blog/page/2/', 'title': \"Seth's Blog\", 'description': \"Seth Godin's Blog on marketing, tribes and respect\", 'language': 'en'}, page_content='smaller and it keeps going faster, which means we'),\n",
       " Document(metadata={'source': 'https://seths.blog/page/2/', 'title': \"Seth's Blog\", 'description': \"Seth Godin's Blog on marketing, tribes and respect\", 'language': 'en'}, page_content='can see the circles we impact more clearly.'),\n",
       " Document(metadata={'source': 'https://seths.blog/page/2/', 'title': \"Seth's Blog\", 'description': \"Seth Godin's Blog on marketing, tribes and respect\", 'language': 'en'}, page_content='We admire adults who lead, who take the long'),\n",
       " Document(metadata={'source': 'https://seths.blog/page/2/', 'title': \"Seth's Blog\", 'description': \"Seth Godin's Blog on marketing, tribes and respect\", 'language': 'en'}, page_content='view, and especially, who consider a larger'),\n",
       " Document(metadata={'source': 'https://seths.blog/page/2/', 'title': \"Seth's Blog\", 'description': \"Seth Godin's Blog on marketing, tribes and respect\", 'language': 'en'}, page_content='circle. And thriving organizations and'),\n",
       " Document(metadata={'source': 'https://seths.blog/page/2/', 'title': \"Seth's Blog\", 'description': \"Seth Godin's Blog on marketing, tribes and respect\", 'language': 'en'}, page_content='communities create the cultural conditions for'),\n",
       " Document(metadata={'source': 'https://seths.blog/page/2/', 'title': \"Seth's Blog\", 'description': \"Seth Godin's Blog on marketing, tribes and respect\", 'language': 'en'}, page_content='people to choose to make their circles include'),\n",
       " Document(metadata={'source': 'https://seths.blog/page/2/', 'title': \"Seth's Blog\", 'description': \"Seth Godin's Blog on marketing, tribes and respect\", 'language': 'en'}, page_content='more people and longer time frames.'),\n",
       " Document(metadata={'source': 'https://seths.blog/page/2/', 'title': \"Seth's Blog\", 'description': \"Seth Godin's Blog on marketing, tribes and respect\", 'language': 'en'}, page_content='Successful cultures embrace bigger circles.'),\n",
       " Document(metadata={'source': 'https://seths.blog/page/2/', 'title': \"Seth's Blog\", 'description': \"Seth Godin's Blog on marketing, tribes and respect\", 'language': 'en'}, page_content='February 25, 2025'),\n",
       " Document(metadata={'source': 'https://seths.blog/page/2/', 'title': \"Seth's Blog\", 'description': \"Seth Godin's Blog on marketing, tribes and respect\", 'language': 'en'}, page_content='Privacy & Cookies: This site uses cookies. By'),\n",
       " Document(metadata={'source': 'https://seths.blog/page/2/', 'title': \"Seth's Blog\", 'description': \"Seth Godin's Blog on marketing, tribes and respect\", 'language': 'en'}, page_content='continuing to use this website, you agree to'),\n",
       " Document(metadata={'source': 'https://seths.blog/page/2/', 'title': \"Seth's Blog\", 'description': \"Seth Godin's Blog on marketing, tribes and respect\", 'language': 'en'}, page_content='their use.'),\n",
       " Document(metadata={'source': 'https://seths.blog/page/2/', 'title': \"Seth's Blog\", 'description': \"Seth Godin's Blog on marketing, tribes and respect\", 'language': 'en'}, page_content='To find out more, including how to control'),\n",
       " Document(metadata={'source': 'https://seths.blog/page/2/', 'title': \"Seth's Blog\", 'description': \"Seth Godin's Blog on marketing, tribes and respect\", 'language': 'en'}, page_content='cookies, see here:'),\n",
       " Document(metadata={'source': 'https://seths.blog/page/2/', 'title': \"Seth's Blog\", 'description': \"Seth Godin's Blog on marketing, tribes and respect\", 'language': 'en'}, page_content='Cookie Policy'),\n",
       " Document(metadata={'source': 'https://seths.blog/page/2/', 'title': \"Seth's Blog\", 'description': \"Seth Godin's Blog on marketing, tribes and respect\", 'language': 'en'}, page_content='Share This\\xa0Facebook'),\n",
       " Document(metadata={'source': 'https://seths.blog/page/2/', 'title': \"Seth's Blog\", 'description': \"Seth Godin's Blog on marketing, tribes and respect\", 'language': 'en'}, page_content='Share on Mastodon'),\n",
       " Document(metadata={'source': 'https://seths.blog/page/2/', 'title': \"Seth's Blog\", 'description': \"Seth Godin's Blog on marketing, tribes and respect\", 'language': 'en'}, page_content='Enter your Mastodon instance URL (optional)'),\n",
       " Document(metadata={'source': 'https://seths.blog/page/2/', 'title': \"Seth's Blog\", 'description': \"Seth Godin's Blog on marketing, tribes and respect\", 'language': 'en'}, page_content='Share')]"
      ]
     },
     "execution_count": 55,
     "metadata": {},
     "output_type": "execute_result"
    }
   ],
   "source": [
    "split_docs"
   ]
  },
  {
   "cell_type": "code",
   "execution_count": 56,
   "metadata": {},
   "outputs": [
    {
     "name": "stdout",
     "output_type": "stream",
     "text": [
      "page_content='Seth's Blog' metadata={'source': 'https://seths.blog/page/2/', 'title': \"Seth's Blog\", 'description': \"Seth Godin's Blog on marketing, tribes and respect\", 'language': 'en'}\n",
      "page_content='You have unread updates\n",
      "0' metadata={'source': 'https://seths.blog/page/2/', 'title': \"Seth's Blog\", 'description': \"Seth Godin's Blog on marketing, tribes and respect\", 'language': 'en'}\n"
     ]
    }
   ],
   "source": [
    "print(split_docs[0])\n",
    "print(split_docs[1])"
   ]
  },
  {
   "cell_type": "code",
   "execution_count": 57,
   "metadata": {},
   "outputs": [],
   "source": [
    "#HuggingFace Embeddings\n",
    "from langchain_huggingface import HuggingFaceEmbeddings\n",
    "embedding=HuggingFaceEmbeddings(model_name=\"all-MiniLM-L6-v2\")"
   ]
  },
  {
   "cell_type": "code",
   "execution_count": 58,
   "metadata": {},
   "outputs": [],
   "source": [
    "#vector store DB\n",
    "from langchain_community.vectorstores import chroma,FAISS"
   ]
  },
  {
   "cell_type": "code",
   "execution_count": 60,
   "metadata": {},
   "outputs": [],
   "source": [
    "vectorDB=FAISS.from_documents(split_docs,embedding=embedding)"
   ]
  },
  {
   "cell_type": "code",
   "execution_count": 62,
   "metadata": {},
   "outputs": [],
   "source": [
    "db=vectorDB.similarity_search(\"Who made a movie?\")"
   ]
  },
  {
   "cell_type": "code",
   "execution_count": 67,
   "metadata": {},
   "outputs": [
    {
     "data": {
      "text/plain": [
       "'space based.'"
      ]
     },
     "execution_count": 67,
     "metadata": {},
     "output_type": "execute_result"
    }
   ],
   "source": [
    "db[0].page_content"
   ]
  },
  {
   "cell_type": "code",
   "execution_count": 74,
   "metadata": {},
   "outputs": [],
   "source": [
    "from langchain_core.prompts import ChatPromptTemplate,PromptTemplate\n",
    "from langchain.chains.combine_documents import create_stuff_documents_chain"
   ]
  },
  {
   "cell_type": "code",
   "execution_count": 82,
   "metadata": {},
   "outputs": [],
   "source": [
    "prompts=ChatPromptTemplate.from_template(\n",
    "    \"\"\"Answer the following question smartly\n",
    "   <context>\n",
    "    {context}\n",
    "    </context>\"\n",
    "    \"\"\"\n",
    "    \n",
    ")"
   ]
  },
  {
   "cell_type": "code",
   "execution_count": 78,
   "metadata": {},
   "outputs": [],
   "source": [
    "#initializing llm model\n",
    "from langchain_google_genai import ChatGoogleGenerativeAI"
   ]
  },
  {
   "cell_type": "code",
   "execution_count": 72,
   "metadata": {},
   "outputs": [],
   "source": [
    "llm=ChatGoogleGenerativeAI(model=\"gemini-1.5-pro\")"
   ]
  },
  {
   "cell_type": "code",
   "execution_count": 83,
   "metadata": {},
   "outputs": [],
   "source": [
    "#combine document\n",
    "document=create_stuff_documents_chain(prompt=prompts,llm=llm)"
   ]
  },
  {
   "cell_type": "code",
   "execution_count": 84,
   "metadata": {},
   "outputs": [
    {
     "data": {
      "text/plain": [
       "RunnableBinding(bound=RunnableBinding(bound=RunnableAssign(mapper={\n",
       "  context: RunnableLambda(format_docs)\n",
       "}), kwargs={}, config={'run_name': 'format_inputs'}, config_factories=[])\n",
       "| ChatPromptTemplate(input_variables=['context'], input_types={}, partial_variables={}, messages=[HumanMessagePromptTemplate(prompt=PromptTemplate(input_variables=['context'], input_types={}, partial_variables={}, template='Answer the following question smartly\\n   <context>\\n    {context}\\n    </context>\"\\n    '), additional_kwargs={})])\n",
       "| ChatGoogleGenerativeAI(model='models/gemini-1.5-pro', google_api_key=SecretStr('**********'), client=<google.ai.generativelanguage_v1beta.services.generative_service.client.GenerativeServiceClient object at 0x000002798872B340>, default_metadata=())\n",
       "| StrOutputParser(), kwargs={}, config={'run_name': 'stuff_documents_chain'}, config_factories=[])"
      ]
     },
     "execution_count": 84,
     "metadata": {},
     "output_type": "execute_result"
    }
   ],
   "source": [
    "document"
   ]
  },
  {
   "cell_type": "code",
   "execution_count": 87,
   "metadata": {},
   "outputs": [],
   "source": [
    "#initialization of retriever\n",
    "#input ----> retriever ---> vectorDB\n",
    "retriever=vectorDB.as_retriever()"
   ]
  },
  {
   "cell_type": "code",
   "execution_count": 88,
   "metadata": {},
   "outputs": [],
   "source": [
    "from langchain.chains.retrieval import create_retrieval_chain"
   ]
  },
  {
   "cell_type": "code",
   "execution_count": 89,
   "metadata": {},
   "outputs": [],
   "source": [
    "retriever_chain=create_retrieval_chain(retriever,document)"
   ]
  },
  {
   "cell_type": "code",
   "execution_count": 90,
   "metadata": {},
   "outputs": [
    {
     "data": {
      "text/plain": [
       "RunnableBinding(bound=RunnableAssign(mapper={\n",
       "  context: RunnableBinding(bound=RunnableLambda(lambda x: x['input'])\n",
       "           | VectorStoreRetriever(tags=['FAISS', 'HuggingFaceEmbeddings'], vectorstore=<langchain_community.vectorstores.faiss.FAISS object at 0x0000027984C22B90>, search_kwargs={}), kwargs={}, config={'run_name': 'retrieve_documents'}, config_factories=[])\n",
       "})\n",
       "| RunnableAssign(mapper={\n",
       "    answer: RunnableBinding(bound=RunnableBinding(bound=RunnableAssign(mapper={\n",
       "              context: RunnableLambda(format_docs)\n",
       "            }), kwargs={}, config={'run_name': 'format_inputs'}, config_factories=[])\n",
       "            | ChatPromptTemplate(input_variables=['context'], input_types={}, partial_variables={}, messages=[HumanMessagePromptTemplate(prompt=PromptTemplate(input_variables=['context'], input_types={}, partial_variables={}, template='Answer the following question smartly\\n   <context>\\n    {context}\\n    </context>\"\\n    '), additional_kwargs={})])\n",
       "            | ChatGoogleGenerativeAI(model='models/gemini-1.5-pro', google_api_key=SecretStr('**********'), client=<google.ai.generativelanguage_v1beta.services.generative_service.client.GenerativeServiceClient object at 0x000002798872B340>, default_metadata=())\n",
       "            | StrOutputParser(), kwargs={}, config={'run_name': 'stuff_documents_chain'}, config_factories=[])\n",
       "  }), kwargs={}, config={'run_name': 'retrieval_chain'}, config_factories=[])"
      ]
     },
     "execution_count": 90,
     "metadata": {},
     "output_type": "execute_result"
    }
   ],
   "source": [
    "retriever_chain"
   ]
  },
  {
   "cell_type": "code",
   "execution_count": null,
   "metadata": {},
   "outputs": [],
   "source": []
  }
 ],
 "metadata": {
  "kernelspec": {
   "display_name": "Python 3",
   "language": "python",
   "name": "python3"
  },
  "language_info": {
   "codemirror_mode": {
    "name": "ipython",
    "version": 3
   },
   "file_extension": ".py",
   "mimetype": "text/x-python",
   "name": "python",
   "nbconvert_exporter": "python",
   "pygments_lexer": "ipython3",
   "version": "3.10.0"
  }
 },
 "nbformat": 4,
 "nbformat_minor": 2
}
