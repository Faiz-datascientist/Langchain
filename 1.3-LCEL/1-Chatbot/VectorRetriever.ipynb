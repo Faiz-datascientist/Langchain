{
 "cells": [
  {
   "cell_type": "code",
   "execution_count": 5,
   "metadata": {},
   "outputs": [],
   "source": [
    "from langchain_core.documents import Document\n",
    "\n",
    "doc1 = [Document(\n",
    "    page_content=\"LangChain is a powerful framework for building LLM applications.\",\n",
    "    metadata={\"title\": \"LangChain Overview\", \"author\": \"John Doe\", \"date\": \"2024-02-20\"},   \n",
    "),\n",
    "Document(\n",
    "    page_content=\"FAISS is an efficient tool for fast similarity search in high-dimensional data.\",\n",
    "    metadata={\"title\": \"FAISS Introduction\", \"source\": \"Wikipedia\", \"date\": \"2024-01-15\"},\n",
    "),\n",
    "Document(\n",
    "    page_content=\"Attention all you need.\",\n",
    "    metadata={\"title\": \"Deep learning\", \"author\": \"John Doe\", \"date\": \"2022-12-10\"}, \n",
    ")]\n"
   ]
  },
  {
   "cell_type": "code",
   "execution_count": 6,
   "metadata": {},
   "outputs": [
    {
     "data": {
      "text/plain": [
       "[Document(metadata={'title': 'LangChain Overview', 'author': 'John Doe', 'date': '2024-02-20'}, page_content='LangChain is a powerful framework for building LLM applications.'),\n",
       " Document(metadata={'title': 'FAISS Introduction', 'source': 'Wikipedia', 'date': '2024-01-15'}, page_content='FAISS is an efficient tool for fast similarity search in high-dimensional data.'),\n",
       " Document(metadata={'title': 'Deep learning', 'author': 'John Doe', 'date': '2022-12-10'}, page_content='Attention all you need.')]"
      ]
     },
     "execution_count": 6,
     "metadata": {},
     "output_type": "execute_result"
    }
   ],
   "source": [
    "doc1"
   ]
  },
  {
   "cell_type": "code",
   "execution_count": 7,
   "metadata": {},
   "outputs": [],
   "source": [
    "#vectorstore\n",
    "from langchain_community.vectorstores import Chroma"
   ]
  },
  {
   "cell_type": "code",
   "execution_count": 8,
   "metadata": {},
   "outputs": [
    {
     "data": {
      "text/plain": [
       "True"
      ]
     },
     "execution_count": 8,
     "metadata": {},
     "output_type": "execute_result"
    }
   ],
   "source": [
    "import os\n",
    "from dotenv import load_dotenv\n",
    "load_dotenv()"
   ]
  },
  {
   "cell_type": "code",
   "execution_count": 9,
   "metadata": {},
   "outputs": [],
   "source": [
    "from langchain_groq import ChatGroq"
   ]
  },
  {
   "cell_type": "code",
   "execution_count": null,
   "metadata": {},
   "outputs": [],
   "source": [
    "llm=ChatGroq()"
   ]
  }
 ],
 "metadata": {
  "kernelspec": {
   "display_name": "Python 3",
   "language": "python",
   "name": "python3"
  },
  "language_info": {
   "codemirror_mode": {
    "name": "ipython",
    "version": 3
   },
   "file_extension": ".py",
   "mimetype": "text/x-python",
   "name": "python",
   "nbconvert_exporter": "python",
   "pygments_lexer": "ipython3",
   "version": "3.10.0"
  }
 },
 "nbformat": 4,
 "nbformat_minor": 2
}
