{
 "cells": [
  {
   "cell_type": "code",
   "execution_count": 21,
   "metadata": {},
   "outputs": [],
   "source": [
    "from langchain_community.document_loaders import TextLoader"
   ]
  },
  {
   "cell_type": "code",
   "execution_count": 33,
   "metadata": {},
   "outputs": [],
   "source": [
    "d=TextLoader(\"speech.txt\")\n",
    "docs=d.load()"
   ]
  },
  {
   "cell_type": "code",
   "execution_count": 34,
   "metadata": {},
   "outputs": [
    {
     "data": {
      "text/plain": [
       "[Document(metadata={'source': 'speech.txt'}, page_content='The oldest classical British and Latin writings had little or no space between words and could be written in boustrophedon (alternating \\ndirections). Over time, text direction (left to right) became standardized. Word dividers and terminal punctuation became common. The first \\nway to divide sentences into groups was the original paragraphos, similar to an underscore at the beginning of the new group.[1] The \\nGreek parágraphos evolved into the pilcrow (¶), which in English manuscripts in the Middle Ages can be seen inserted inline between sentences, \\n \\nAncient manuscripts also divided sentences into paragraphs with line breaks (newline) followed by an initial at the beginning of the next \\nparagraph. An initial is an oversized capital letter, sometimes outdented beyond the margin of the text. This style can be seen, for example, in \\nthe original Old English manuscript of Beowulf. Outdenting is still used in English typography, though not commonly.[2] Modern English \\ntypography usually indicates a new paragraph by indenting the first line. This style can be seen in the (handwritten) United States \\nConstitution from 1787. For additional ornamentation, a hedera leaf or other symbol can be added to the inter-paragraph white space, or put in \\nthe indentation space.\\n \\nA second common modern English style is to use no indenting, but add vertical white space to create \"block paragraphs.\" On a typewriter, a \\ndouble carriage return produces a blank line for this purpose; professional typesetters (or word processing software) may put in an arbitrary \\nvertical space by adjusting leading. This style is very common in electronic formats, such as on the World Wide Web and email. Wikipedia itself \\nemploys this format.')]"
      ]
     },
     "execution_count": 34,
     "metadata": {},
     "output_type": "execute_result"
    }
   ],
   "source": [
    "docs"
   ]
  },
  {
   "cell_type": "code",
   "execution_count": 36,
   "metadata": {},
   "outputs": [
    {
     "data": {
      "text/plain": [
       "langchain_core.documents.base.Document"
      ]
     },
     "execution_count": 36,
     "metadata": {},
     "output_type": "execute_result"
    }
   ],
   "source": [
    "type(docs[0])"
   ]
  },
  {
   "cell_type": "code",
   "execution_count": 37,
   "metadata": {},
   "outputs": [],
   "source": [
    "speech=\"\"\n",
    "with open(\"speech.txt\") as f:\n",
    "    speech=f.read()"
   ]
  },
  {
   "cell_type": "code",
   "execution_count": 38,
   "metadata": {},
   "outputs": [
    {
     "data": {
      "text/plain": [
       "'The oldest classical British and Latin writings had little or no space between words and could be written in boustrophedon (alternating \\ndirections). Over time, text direction (left to right) became standardized. Word dividers and terminal punctuation became common. The first \\nway to divide sentences into groups was the original paragraphos, similar to an underscore at the beginning of the new group.[1] The \\nGreek parágraphos evolved into the pilcrow (¶), which in English manuscripts in the Middle Ages can be seen inserted inline between sentences, \\n \\nAncient manuscripts also divided sentences into paragraphs with line breaks (newline) followed by an initial at the beginning of the next \\nparagraph. An initial is an oversized capital letter, sometimes outdented beyond the margin of the text. This style can be seen, for example, in \\nthe original Old English manuscript of Beowulf. Outdenting is still used in English typography, though not commonly.[2] Modern English \\ntypography usually indicates a new paragraph by indenting the first line. This style can be seen in the (handwritten) United States \\nConstitution from 1787. For additional ornamentation, a hedera leaf or other symbol can be added to the inter-paragraph white space, or put in \\nthe indentation space.\\n \\nA second common modern English style is to use no indenting, but add vertical white space to create \"block paragraphs.\" On a typewriter, a \\ndouble carriage return produces a blank line for this purpose; professional typesetters (or word processing software) may put in an arbitrary \\nvertical space by adjusting leading. This style is very common in electronic formats, such as on the World Wide Web and email. Wikipedia itself \\nemploys this format.'"
      ]
     },
     "execution_count": 38,
     "metadata": {},
     "output_type": "execute_result"
    }
   ],
   "source": [
    "speech"
   ]
  },
  {
   "cell_type": "code",
   "execution_count": 50,
   "metadata": {},
   "outputs": [],
   "source": [
    "from langchain.text_splitter import CharacterTextSplitter\n",
    "text_splitters=CharacterTextSplitter( \n",
    "    chunk_size=50,\n",
    "    chunk_overlap=0)"
   ]
  },
  {
   "cell_type": "code",
   "execution_count": 53,
   "metadata": {},
   "outputs": [],
   "source": [
    "split_texts=text_splitters.split_documents(docs)"
   ]
  },
  {
   "cell_type": "code",
   "execution_count": 54,
   "metadata": {},
   "outputs": [
    {
     "data": {
      "text/plain": [
       "[Document(metadata={'source': 'speech.txt'}, page_content='The oldest classical British and Latin writings had little or no space between words and could be written in boustrophedon (alternating \\ndirections). Over time, text direction (left to right) became standardized. Word dividers and terminal punctuation became common. The first \\nway to divide sentences into groups was the original paragraphos, similar to an underscore at the beginning of the new group.[1] The \\nGreek parágraphos evolved into the pilcrow (¶), which in English manuscripts in the Middle Ages can be seen inserted inline between sentences, \\n \\nAncient manuscripts also divided sentences into paragraphs with line breaks (newline) followed by an initial at the beginning of the next \\nparagraph. An initial is an oversized capital letter, sometimes outdented beyond the margin of the text. This style can be seen, for example, in \\nthe original Old English manuscript of Beowulf. Outdenting is still used in English typography, though not commonly.[2] Modern English \\ntypography usually indicates a new paragraph by indenting the first line. This style can be seen in the (handwritten) United States \\nConstitution from 1787. For additional ornamentation, a hedera leaf or other symbol can be added to the inter-paragraph white space, or put in \\nthe indentation space.\\n \\nA second common modern English style is to use no indenting, but add vertical white space to create \"block paragraphs.\" On a typewriter, a \\ndouble carriage return produces a blank line for this purpose; professional typesetters (or word processing software) may put in an arbitrary \\nvertical space by adjusting leading. This style is very common in electronic formats, such as on the World Wide Web and email. Wikipedia itself \\nemploys this format.')]"
      ]
     },
     "execution_count": 54,
     "metadata": {},
     "output_type": "execute_result"
    }
   ],
   "source": [
    "split_texts"
   ]
  },
  {
   "cell_type": "code",
   "execution_count": null,
   "metadata": {},
   "outputs": [],
   "source": []
  }
 ],
 "metadata": {
  "kernelspec": {
   "display_name": "Python 3",
   "language": "python",
   "name": "python3"
  },
  "language_info": {
   "codemirror_mode": {
    "name": "ipython",
    "version": 3
   },
   "file_extension": ".py",
   "mimetype": "text/x-python",
   "name": "python",
   "nbconvert_exporter": "python",
   "pygments_lexer": "ipython3",
   "version": "3.10.0"
  }
 },
 "nbformat": 4,
 "nbformat_minor": 2
}
